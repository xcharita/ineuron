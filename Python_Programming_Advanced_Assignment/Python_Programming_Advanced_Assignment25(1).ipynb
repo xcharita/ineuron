{
  "nbformat": 4,
  "nbformat_minor": 0,
  "metadata": {
    "kernelspec": {
      "display_name": "Python 3",
      "language": "python",
      "name": "python3"
    },
    "language_info": {
      "codemirror_mode": {
        "name": "ipython",
        "version": 3
      },
      "file_extension": ".py",
      "mimetype": "text/x-python",
      "name": "python",
      "nbconvert_exporter": "python",
      "pygments_lexer": "ipython3",
      "version": "3.8.5"
    },
    "colab": {
      "name": "Python_Programming_Advanced_Assignment25(1).ipynb",
      "provenance": [],
      "include_colab_link": true
    }
  },
  "cells": [
    {
      "cell_type": "markdown",
      "metadata": {
        "id": "view-in-github",
        "colab_type": "text"
      },
      "source": [
        "<a href=\"https://colab.research.google.com/github/xcharita/ineuron/blob/main/Python_Programming_Advanced_Assignment25(1).ipynb\" target=\"_parent\"><img src=\"https://colab.research.google.com/assets/colab-badge.svg\" alt=\"Open In Colab\"/></a>"
      ]
    },
    {
      "cell_type": "raw",
      "metadata": {
        "id": "dQGQyGdrgpnn"
      },
      "source": [
        "1. Write four functions that directly mutate a list:\n",
        "\n",
        "1.   List item\n",
        "2.   List item\n",
        "\n",
        "\n",
        "\n",
        "    1. repeat(lst, n): Repeat lst n times.\n",
        "    2. add(lst, x): Adds x to the end of the lst.\n",
        "    3. remove(lst, m, n): Removes all elements between indices m and n inclusive in lst.\n",
        "    4. concat(lst, x): concatenates lst with x (another list)."
      ]
    },
    {
      "cell_type": "code",
      "metadata": {
        "id": "GA9Zs3ytgpnr"
      },
      "source": [
        "def repeat(f_lst,f_n):\n",
        "    new_lst=[]\n",
        "    for i in range(f_n):\n",
        "        new_lst.extend(f_lst)\n",
        "    return new_lst\n",
        "\n",
        "def add(f_lst,f_x):\n",
        "    f_lst.append(f_x)\n",
        "    return print(f_lst)"
      ],
      "execution_count": null,
      "outputs": []
    },
    {
      "cell_type": "code",
      "metadata": {
        "id": "tUHb84YBgpns"
      },
      "source": [
        "def concat(f_lst,f_lst2):\n",
        "    return f_lst + f_lst2"
      ],
      "execution_count": null,
      "outputs": []
    },
    {
      "cell_type": "code",
      "metadata": {
        "id": "OqUT-RsCgpnt"
      },
      "source": [
        "def remove(f_lst, f_n, f_m):\n",
        "    try:\n",
        "        del f_lst[f_n:f_m+1]\n",
        "        return f_lst\n",
        "    except Exception as e:\n",
        "        print(e)"
      ],
      "execution_count": null,
      "outputs": []
    },
    {
      "cell_type": "code",
      "metadata": {
        "id": "MHcDZr4ogpnu"
      },
      "source": [
        "lst = [1,2,3,4]"
      ],
      "execution_count": null,
      "outputs": []
    },
    {
      "cell_type": "code",
      "metadata": {
        "id": "O82lHHT3gpnw",
        "outputId": "b5cb97e0-f86d-4633-f7c0-9ac824fdfa90"
      },
      "source": [
        "n = int(input(\"How many times would you like to repeat the list? \"))"
      ],
      "execution_count": null,
      "outputs": [
        {
          "output_type": "stream",
          "text": [
            "How many times would you like to repeat the list? 3\n"
          ],
          "name": "stdout"
        }
      ]
    },
    {
      "cell_type": "code",
      "metadata": {
        "id": "hMqfBjBcgpn0",
        "outputId": "eefbd4d9-c6e0-45f9-d32c-23a890775d95"
      },
      "source": [
        "repeat(lst,n)"
      ],
      "execution_count": null,
      "outputs": [
        {
          "output_type": "execute_result",
          "data": {
            "text/plain": [
              "[1, 2, 3, 4, 1, 2, 3, 4, 1, 2, 3, 4]"
            ]
          },
          "metadata": {
            "tags": []
          },
          "execution_count": 359
        }
      ]
    },
    {
      "cell_type": "code",
      "metadata": {
        "id": "8Ajqu4kNgpn2",
        "outputId": "6d838fbd-3210-489e-dfa3-40c06bec23b8"
      },
      "source": [
        "x = input(\"Which character would you like to add to the list? \")"
      ],
      "execution_count": null,
      "outputs": [
        {
          "output_type": "stream",
          "text": [
            "Which character would you like to add to the list? a\n"
          ],
          "name": "stdout"
        }
      ]
    },
    {
      "cell_type": "code",
      "metadata": {
        "id": "LZlKJDG-gpn4",
        "outputId": "8687a659-2271-462d-ef74-5769e2c6de6d"
      },
      "source": [
        "add(lst, x)"
      ],
      "execution_count": null,
      "outputs": [
        {
          "output_type": "stream",
          "text": [
            "[1, 2, 3, 4, 'a']\n"
          ],
          "name": "stdout"
        }
      ]
    },
    {
      "cell_type": "code",
      "metadata": {
        "id": "to9PSOg4gpn6",
        "outputId": "94bba78a-76bf-4c22-cea0-978fa11a80f1"
      },
      "source": [
        "lst_temp = input(\"Which list would you like to add ? \")\n",
        "lst2 = lst_temp.split(\",\")\n",
        "lst2 = list(int(lst2[i]) for i in range(len(lst2)))"
      ],
      "execution_count": null,
      "outputs": [
        {
          "output_type": "stream",
          "text": [
            "Which list would you like to add ? 12, 5, 78, 29, 22\n"
          ],
          "name": "stdout"
        }
      ]
    },
    {
      "cell_type": "code",
      "metadata": {
        "id": "1skjdtFYgpn7"
      },
      "source": [
        "lst = concat(lst, lst2)"
      ],
      "execution_count": null,
      "outputs": []
    },
    {
      "cell_type": "code",
      "metadata": {
        "id": "yAjI2Wh2gpn9",
        "outputId": "e4a482e4-cbf8-4623-a921-e78879f93407"
      },
      "source": [
        "n = int(input(\"Pls give the lower index of the list\"))\n",
        "m = int(input(\"Pls give the upper index of the list\"))"
      ],
      "execution_count": null,
      "outputs": [
        {
          "output_type": "stream",
          "text": [
            "Pls give the lower index of the list2\n",
            "Pls give the upper index of the list5\n"
          ],
          "name": "stdout"
        }
      ]
    },
    {
      "cell_type": "code",
      "metadata": {
        "id": "tz-sWMb7gpn9",
        "outputId": "0d79c07a-4891-4de3-e63f-137a499d8fc0"
      },
      "source": [
        "remove(lst,n, m)"
      ],
      "execution_count": null,
      "outputs": [
        {
          "output_type": "execute_result",
          "data": {
            "text/plain": [
              "[1, 2, 5, 78, 29, 22]"
            ]
          },
          "metadata": {
            "tags": []
          },
          "execution_count": 365
        }
      ]
    },
    {
      "cell_type": "raw",
      "metadata": {
        "id": "Llnqszb-gpn-"
      },
      "source": [
        "2. The classic game of Mastermind is played on a tray on which the Mastermind conceals a code and the Guesser has 10 tries to guess it. The code is a sequence of 4 (or 6, sometimes more) pegs of different colors. Each guess is a corresponding sequence of 4 (or more) pegs of different colors. A guess is \"correct\" when the color of every peg in the guess exactly matches the corresponding peg in the Mastermind's code.\n",
        "\n",
        "After each guess by the Guesser, the Mastermind will give a score comprising black & white pegs, not arranged in any order:\n",
        "\n",
        "   - Black peg == guess peg matches the color of a code peg in the same position.\n",
        "   - White peg == guess peg matches the color of a code peg in another position.\n",
        "\n",
        "Create a function that takes two strings, code and guess as arguments, and returns the score in a dictionary.\n",
        "\n",
        "   - The code and guess are strings of numeric digits\n",
        "   - The color of the pegs are represented by numeric digits\n",
        "   - no \"peg\" may be double-scored\n"
      ]
    },
    {
      "cell_type": "code",
      "metadata": {
        "id": "GSZcdkiNgpoB"
      },
      "source": [
        "import numpy as np"
      ],
      "execution_count": null,
      "outputs": []
    },
    {
      "cell_type": "code",
      "metadata": {
        "id": "G2jfPJTJgpoB"
      },
      "source": [
        "def guess_score(code, guess):\n",
        "    masterdict = {'black': 0, 'white': 0}\n",
        "    if code == guess:\n",
        "        print(\"All good, you have guessed the values and the positions with it\")\n",
        "    else:\n",
        "        for i in range(len(guess)):\n",
        "            if (guess[i] in code) and (code.index(guess[i]) == i):\n",
        "                print('{position' , i, 'is correct with',guess[i] ,'} :BLACK PEG')\n",
        "                masterdict['black'] += 1\n",
        "            elif (guess[i] in code) and (code.index(guess[i]) != i):\n",
        "                masterdict['white'] += 1\n",
        "                print('{position' ,guess.index(guess[i]),'is not correct with',guess[i] ,'but it is present in code','} :WHITE PEG')\n",
        "            else:\n",
        "                print('{position',guess.index(guess[i]), 'and digit were guessed wrong}')\n",
        "    return masterdict"
      ],
      "execution_count": null,
      "outputs": []
    },
    {
      "cell_type": "code",
      "metadata": {
        "id": "HUTdj7IHgpoC",
        "outputId": "4442a48c-6e50-479b-a797-bda6582efa1b"
      },
      "source": [
        "digit1 = int(np.random.randint(9,size=1))\n",
        "digit2 = int(np.random.randint(9,size=1))\n",
        "digit3 = int(np.random.randint(9,size=1))\n",
        "digit4 = int(np.random.randint(9,size=1))\n",
        "\n",
        "code = list(str(digit1)+str(digit2)+str(digit3)+str(digit4))\n",
        "print(code)\n"
      ],
      "execution_count": null,
      "outputs": [
        {
          "output_type": "stream",
          "text": [
            "['3', '8', '5', '5']\n"
          ],
          "name": "stdout"
        }
      ]
    },
    {
      "cell_type": "code",
      "metadata": {
        "id": "N2hmSloMgpoE",
        "outputId": "1e82251d-b7bd-4d82-ee33-953a9d69c073"
      },
      "source": [
        "guess = list(input(\"Pls guess the 4 digit code: \"))\n",
        "\n"
      ],
      "execution_count": null,
      "outputs": [
        {
          "output_type": "stream",
          "text": [
            "Pls guess the 4 digit code: 1856\n"
          ],
          "name": "stdout"
        }
      ]
    },
    {
      "cell_type": "code",
      "metadata": {
        "id": "OYHJyGGxgpoF",
        "outputId": "ccda80a5-a2b4-413d-cc81-a7acca21a2b9"
      },
      "source": [
        "guess_score(code, guess)"
      ],
      "execution_count": null,
      "outputs": [
        {
          "output_type": "stream",
          "text": [
            "{position 0 and digit were guessed wrong}\n",
            "{position 1 is correct with 8 } :BLACK PEG\n",
            "{position 2 is correct with 5 } :BLACK PEG\n",
            "{position 3 and digit were guessed wrong}\n"
          ],
          "name": "stdout"
        },
        {
          "output_type": "execute_result",
          "data": {
            "text/plain": [
              "{'black': 2, 'white': 0}"
            ]
          },
          "metadata": {
            "tags": []
          },
          "execution_count": 374
        }
      ]
    },
    {
      "cell_type": "raw",
      "metadata": {
        "id": "SrfShQ76gpoG"
      },
      "source": [
        "3. Create a function that takes a list lst and a number N and returns a list of two integers from lst whose product equals N."
      ]
    },
    {
      "cell_type": "code",
      "metadata": {
        "id": "wvZqvvaWgpoG"
      },
      "source": [
        "def two_product(lst, number):\n",
        "    two_integers = []\n",
        "    for i in lst:\n",
        "        int_i = int(i)\n",
        "        if number%int_i == 0 and (number//int_i > 1):\n",
        "            two_integers.append(int_i)\n",
        "            if len(two_integers) == 2 :\n",
        "                product = two_integers[0]*two_integers[1]\n",
        "                if product == number:\n",
        "                    break;\n",
        "                else:\n",
        "                    two_integers.pop(0)\n",
        "    return two_integers"
      ],
      "execution_count": null,
      "outputs": []
    },
    {
      "cell_type": "code",
      "metadata": {
        "id": "5eAj-ioZgpoH",
        "outputId": "027a71cc-24a3-4939-e2a2-6c49ed85d0ce"
      },
      "source": [
        "lst = str(input(\"Please give your list for calculation \")).split(',')"
      ],
      "execution_count": null,
      "outputs": [
        {
          "output_type": "stream",
          "text": [
            "Please give your list for calculation 56, 2, 8, 7, 12\n"
          ],
          "name": "stdout"
        }
      ]
    },
    {
      "cell_type": "code",
      "metadata": {
        "id": "iNSnA2s0gpoI",
        "outputId": "35ac4927-5198-401d-a633-ae74e03bbb56"
      },
      "source": [
        "N = int(input(\"Please give the number N you would like to have as multiplication output: \"))"
      ],
      "execution_count": null,
      "outputs": [
        {
          "output_type": "stream",
          "text": [
            "Please give the number N you would like to have as multiplication output: 56\n"
          ],
          "name": "stdout"
        }
      ]
    },
    {
      "cell_type": "code",
      "metadata": {
        "id": "eYFvUW98gpoJ",
        "outputId": "8ef7fff2-c1bc-4e20-9f9d-89461df98c85"
      },
      "source": [
        "print(\"The product of\", two_product(lst,N), \"is\", N)"
      ],
      "execution_count": null,
      "outputs": [
        {
          "output_type": "stream",
          "text": [
            "The product of [8, 7] is 56\n"
          ],
          "name": "stdout"
        }
      ]
    },
    {
      "cell_type": "code",
      "metadata": {
        "id": "k5jdeSCIgpoJ"
      },
      "source": [
        ""
      ],
      "execution_count": null,
      "outputs": []
    }
  ]
}
