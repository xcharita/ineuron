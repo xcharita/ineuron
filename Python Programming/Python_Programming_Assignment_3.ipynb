{
  "nbformat": 4,
  "nbformat_minor": 0,
  "metadata": {
    "colab": {
      "name": "Python_Programming_Assignment_3.ipynb",
      "provenance": [],
      "authorship_tag": "ABX9TyP/v5eoGZbIHSXvXAQtbzAi",
      "include_colab_link": true
    },
    "kernelspec": {
      "name": "python3",
      "display_name": "Python 3"
    },
    "language_info": {
      "name": "python"
    }
  },
  "cells": [
    {
      "cell_type": "markdown",
      "metadata": {
        "id": "view-in-github",
        "colab_type": "text"
      },
      "source": [
        "<a href=\"https://colab.research.google.com/github/xcharita/ineuron/blob/main/Python_Programming_Assignment_3.ipynb\" target=\"_parent\"><img src=\"https://colab.research.google.com/assets/colab-badge.svg\" alt=\"Open In Colab\"/></a>"
      ]
    },
    {
      "cell_type": "markdown",
      "metadata": {
        "id": "ktZqIx2nQ9K_"
      },
      "source": [
        "\n",
        "\n",
        "    Write a Python Program to Check if a Number is Positive, Negative or Zero?"
      ]
    },
    {
      "cell_type": "code",
      "metadata": {
        "id": "2cgYmfmIQmTt"
      },
      "source": [
        "def check(number):\n",
        "  if number < 0:\n",
        "    return 'negative'\n",
        "  elif number > 0:\n",
        "    return 'positive'\n",
        "  else:\n",
        "    return 'zero'"
      ],
      "execution_count": 1,
      "outputs": []
    },
    {
      "cell_type": "code",
      "metadata": {
        "colab": {
          "base_uri": "https://localhost:8080/",
          "height": 36
        },
        "id": "zUZvEdxtQtPL",
        "outputId": "a3b4cd05-9b98-4f60-f135-4b6528d2568f"
      },
      "source": [
        "check(-9)"
      ],
      "execution_count": 3,
      "outputs": [
        {
          "output_type": "execute_result",
          "data": {
            "application/vnd.google.colaboratory.intrinsic+json": {
              "type": "string"
            },
            "text/plain": [
              "'negative'"
            ]
          },
          "metadata": {
            "tags": []
          },
          "execution_count": 3
        }
      ]
    },
    {
      "cell_type": "markdown",
      "metadata": {
        "id": "qmHS2lKkRYgf"
      },
      "source": [
        "Write a Python Program to Check if a Number is Odd or Even?"
      ]
    },
    {
      "cell_type": "code",
      "metadata": {
        "id": "IzIIPM0mRY81"
      },
      "source": [
        "def check(number):\n",
        "  if number == 0:\n",
        "    return \"neither odd, nor even\"\n",
        "  elif (number%2 == 0):\n",
        "    return 'even'\n",
        "  else:\n",
        "    return 'odd'"
      ],
      "execution_count": 8,
      "outputs": []
    },
    {
      "cell_type": "code",
      "metadata": {
        "colab": {
          "base_uri": "https://localhost:8080/",
          "height": 36
        },
        "id": "H6Alc5rwRx7P",
        "outputId": "1c2cdac6-0d6a-451e-b6b5-ae7efd7f2053"
      },
      "source": [
        "check(0)"
      ],
      "execution_count": 9,
      "outputs": [
        {
          "output_type": "execute_result",
          "data": {
            "application/vnd.google.colaboratory.intrinsic+json": {
              "type": "string"
            },
            "text/plain": [
              "'neither odd, nor even'"
            ]
          },
          "metadata": {
            "tags": []
          },
          "execution_count": 9
        }
      ]
    },
    {
      "cell_type": "markdown",
      "metadata": {
        "id": "bpyTWQDuaOTz"
      },
      "source": [
        "Write a Python Program to Check Leap Year?"
      ]
    },
    {
      "cell_type": "code",
      "metadata": {
        "id": "9_2g_8EoaO8y"
      },
      "source": [
        "def leap(year):\n",
        "  if (year % 4) == 0:\n",
        "   if (year % 100) == 0:\n",
        "       if (year % 400) == 0:\n",
        "           print(\"{0} is a leap year\".format(year))\n",
        "       else:\n",
        "           print(\"{0} is not a leap year\".format(year))\n",
        "   else:\n",
        "       print(\"{0} is a leap year\".format(year))\n",
        "  else:\n",
        "   print(\"{0} is not a leap year\".format(year))"
      ],
      "execution_count": 11,
      "outputs": []
    },
    {
      "cell_type": "code",
      "metadata": {
        "colab": {
          "base_uri": "https://localhost:8080/"
        },
        "id": "-nhgksuYafOa",
        "outputId": "85d695b0-b2fc-411f-dfdd-bbb742cd19c5"
      },
      "source": [
        "leap(2021)"
      ],
      "execution_count": 12,
      "outputs": [
        {
          "output_type": "stream",
          "text": [
            "2021 is not a leap year\n"
          ],
          "name": "stdout"
        }
      ]
    },
    {
      "cell_type": "markdown",
      "metadata": {
        "id": "mtl71DJlampk"
      },
      "source": [
        "Write a Python Program to Check Prime Number?"
      ]
    },
    {
      "cell_type": "code",
      "metadata": {
        "id": "ArDGmtEwbfeY"
      },
      "source": [
        "def prime(number):\n",
        "  if number > 1:\n",
        "      for i in range(2, number):\n",
        "          if (number % i) == 0:\n",
        "              print(number, \"is not a prime number\")\n",
        "              break\n",
        "      else:\n",
        "          print(number, \"is a prime number\")\n",
        "  else:\n",
        "      print(number, \"is not a prime number\")"
      ],
      "execution_count": 13,
      "outputs": []
    },
    {
      "cell_type": "code",
      "metadata": {
        "colab": {
          "base_uri": "https://localhost:8080/"
        },
        "id": "JImgxaQHanWM",
        "outputId": "623bb514-a8f7-4d3a-f746-dc294173e281"
      },
      "source": [
        "# taking input from user\n",
        "number = int(input(\"Enter any number: \"))\n",
        "prime(number)\n"
      ],
      "execution_count": 15,
      "outputs": [
        {
          "output_type": "stream",
          "text": [
            "Enter any number: 12\n",
            "12 is not a prime number\n"
          ],
          "name": "stdout"
        }
      ]
    },
    {
      "cell_type": "markdown",
      "metadata": {
        "id": "2r8F_dkdb40k"
      },
      "source": [
        "Write a Python Program to Print all Prime Numbers in an Interval of 1-10000?"
      ]
    },
    {
      "cell_type": "code",
      "metadata": {
        "id": "P3-7RXyNb5ch"
      },
      "source": [
        "def prime():\n",
        "  # Python program to display all the prime numbers within an interval of 1-10000\n",
        "  print(\"Prime numbers in the interval of 1 - 10000 are:\")\n",
        "\n",
        "  for num in range(1,10001):\n",
        "    # all prime numbers are greater than 1\n",
        "    if num > 1:\n",
        "        for i in range(2, num):\n",
        "            if (num % i) == 0:\n",
        "                break\n",
        "        else:\n",
        "            print(num)"
      ],
      "execution_count": 17,
      "outputs": []
    }
  ]
}
