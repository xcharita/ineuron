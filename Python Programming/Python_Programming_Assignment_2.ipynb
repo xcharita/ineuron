{
  "nbformat": 4,
  "nbformat_minor": 0,
  "metadata": {
    "colab": {
      "name": "Python Programming Assignment 2.ipynb",
      "provenance": [],
      "authorship_tag": "ABX9TyMFQg5JxI6Q3Jf+sgAjRTDp",
      "include_colab_link": true
    },
    "kernelspec": {
      "name": "python3",
      "display_name": "Python 3"
    },
    "language_info": {
      "name": "python"
    }
  },
  "cells": [
    {
      "cell_type": "markdown",
      "metadata": {
        "id": "view-in-github",
        "colab_type": "text"
      },
      "source": [
        "<a href=\"https://colab.research.google.com/github/xcharita/ineuron/blob/main/Python_Programming_Assignment_2.ipynb\" target=\"_parent\"><img src=\"https://colab.research.google.com/assets/colab-badge.svg\" alt=\"Open In Colab\"/></a>"
      ]
    },
    {
      "cell_type": "markdown",
      "metadata": {
        "id": "6JnaW1dsZZcW"
      },
      "source": [
        "Write a Python program to convert kilometers to miles?"
      ]
    },
    {
      "cell_type": "code",
      "metadata": {
        "id": "MMhEs45MUa0k"
      },
      "source": [
        "def convert_length(km):\n",
        "  return round(km/1.609, ndigits=2)"
      ],
      "execution_count": 5,
      "outputs": []
    },
    {
      "cell_type": "code",
      "metadata": {
        "id": "g33k3nKBUYpN",
        "colab": {
          "base_uri": "https://localhost:8080/"
        },
        "outputId": "396fbf3f-eb71-474e-9247-8105abedfad5"
      },
      "source": [
        "convert_length(6)"
      ],
      "execution_count": 6,
      "outputs": [
        {
          "output_type": "execute_result",
          "data": {
            "text/plain": [
              "3.73"
            ]
          },
          "metadata": {
            "tags": []
          },
          "execution_count": 6
        }
      ]
    },
    {
      "cell_type": "markdown",
      "metadata": {
        "id": "l3WhD85LZgZR"
      },
      "source": [
        "Write a Python program to convert Celsius to Fahrenheit?"
      ]
    },
    {
      "cell_type": "code",
      "metadata": {
        "id": "fCx7fPozUaxY"
      },
      "source": [
        "def convert_temp(celsius):\n",
        "  return round((celsius * 9/5) + 32)"
      ],
      "execution_count": 7,
      "outputs": []
    },
    {
      "cell_type": "code",
      "metadata": {
        "id": "Iqr7coAXUaud",
        "colab": {
          "base_uri": "https://localhost:8080/"
        },
        "outputId": "9ad65a21-e6c7-49bf-cbd1-d3c320d70f4a"
      },
      "source": [
        "convert_temp(23)"
      ],
      "execution_count": 8,
      "outputs": [
        {
          "output_type": "execute_result",
          "data": {
            "text/plain": [
              "73"
            ]
          },
          "metadata": {
            "tags": []
          },
          "execution_count": 8
        }
      ]
    },
    {
      "cell_type": "markdown",
      "metadata": {
        "id": "F6mKpndAZnix"
      },
      "source": [
        "Write a Python program to display calendar?"
      ]
    },
    {
      "cell_type": "code",
      "metadata": {
        "id": "rM8fayw1UanZ",
        "colab": {
          "base_uri": "https://localhost:8080/"
        },
        "outputId": "49617679-2d49-4969-ca38-7e4b06f04f7a"
      },
      "source": [
        "import calendar\n",
        "month = int(input(\"Please indicate a month in numbers : \"))\n",
        "year = int(input(\"Please indicate a year in numbers : \"))\n",
        "print(calendar.month(year, month))\n"
      ],
      "execution_count": 9,
      "outputs": [
        {
          "output_type": "stream",
          "text": [
            "Please indicate a month in numbers : 8\n",
            "Please indicate a year in numbers : 2029\n",
            "    August 2029\n",
            "Mo Tu We Th Fr Sa Su\n",
            "       1  2  3  4  5\n",
            " 6  7  8  9 10 11 12\n",
            "13 14 15 16 17 18 19\n",
            "20 21 22 23 24 25 26\n",
            "27 28 29 30 31\n",
            "\n"
          ],
          "name": "stdout"
        }
      ]
    },
    {
      "cell_type": "markdown",
      "metadata": {
        "id": "-3GapfadZtJ9"
      },
      "source": [
        "Write a Python program to solve quadratic equation?\n"
      ]
    },
    {
      "cell_type": "code",
      "metadata": {
        "id": "JGa2TDcN8Z2S"
      },
      "source": [
        "from numpy import sqrt"
      ],
      "execution_count": 10,
      "outputs": []
    },
    {
      "cell_type": "code",
      "metadata": {
        "id": "Sh6kdxbCUajA"
      },
      "source": [
        "def quadratic(a,b,c):\n",
        "\n",
        "      if a==0:\n",
        "        print(\"This is not a quadratic equation.\")\n",
        "        if b==0:\n",
        "          print(\"There is no x, because a and b are both 0\")\n",
        "        else:\n",
        "          x1=-b/c\n",
        "          print(\"x1 = \" + str(x1))\n",
        "      else:\n",
        "        \n",
        "        if b**2-4*a*c<0:\n",
        "          print(\"There are No Real Roots\")\n",
        "        else:\n",
        "          x1=(-b+sqrt(b**2-4*a*c))/(2*a)\n",
        "          x2=(-b-sqrt(b**2-4*a*c))/(2*a)\n",
        "          print(\"x1 = \" + str(x1) + \", x2 = \" + str(x2))\n",
        "\n",
        "      return "
      ],
      "execution_count": 11,
      "outputs": []
    },
    {
      "cell_type": "code",
      "metadata": {
        "id": "SXeKJLBMUaWl",
        "colab": {
          "base_uri": "https://localhost:8080/"
        },
        "outputId": "a4ac73df-4fe7-49df-b89c-b9e43305da01"
      },
      "source": [
        "print(\"From the quadratic formula, ax**2 + b*x + c = 0, please give the constants a, b and c where a is not equal to 0\" )\n",
        "a=float(input(\"a =\"))\n",
        "b=float(input(\"b =\"))\n",
        "c=float(input(\"c =\"))\n",
        "quadratic(a,b,c)"
      ],
      "execution_count": 12,
      "outputs": [
        {
          "output_type": "stream",
          "text": [
            "From the quadratic formula, ax**2 + b*x + c = 0, please give the constants a, b and c where a is not equal to 0\n",
            "a =12\n",
            "b =2\n",
            "c =9\n",
            "There are No Real Roots\n"
          ],
          "name": "stdout"
        }
      ]
    },
    {
      "cell_type": "markdown",
      "metadata": {
        "id": "zMF54LYPZ68s"
      },
      "source": [
        "Write a Python program to swap two variables without temp variable?"
      ]
    },
    {
      "cell_type": "code",
      "metadata": {
        "id": "LxGkjhiuUaJN"
      },
      "source": [
        "def swap():\n",
        "  a = int(input(\"What is the first variable value ? \"))\n",
        "  b = int(input(\"What is the second variable value ? \"))\n",
        "  return print(\"swapped: \", b, a)"
      ],
      "execution_count": 13,
      "outputs": []
    },
    {
      "cell_type": "code",
      "metadata": {
        "id": "_LpdW0gDb0Td",
        "colab": {
          "base_uri": "https://localhost:8080/"
        },
        "outputId": "ea978c35-2720-4ba5-c7be-01fb78d64b87"
      },
      "source": [
        "swap()"
      ],
      "execution_count": 14,
      "outputs": [
        {
          "output_type": "stream",
          "text": [
            "What is the first variable value ? 3\n",
            "What is the second variable value ? 6\n",
            "swapped:  6 3\n"
          ],
          "name": "stdout"
        }
      ]
    }
  ]
}
