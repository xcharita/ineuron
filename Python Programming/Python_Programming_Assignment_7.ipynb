{
  "nbformat": 4,
  "nbformat_minor": 0,
  "metadata": {
    "colab": {
      "name": "Python_Programming_Assignment_7.ipynb",
      "provenance": [],
      "authorship_tag": "ABX9TyNcXr0fqaCyg19e1+0WabdF",
      "include_colab_link": true
    },
    "kernelspec": {
      "name": "python3",
      "display_name": "Python 3"
    },
    "language_info": {
      "name": "python"
    }
  },
  "cells": [
    {
      "cell_type": "markdown",
      "metadata": {
        "id": "view-in-github",
        "colab_type": "text"
      },
      "source": [
        "<a href=\"https://colab.research.google.com/github/xcharita/ineuron/blob/main/Python_Programming_Assignment_7.ipynb\" target=\"_parent\"><img src=\"https://colab.research.google.com/assets/colab-badge.svg\" alt=\"Open In Colab\"/></a>"
      ]
    },
    {
      "cell_type": "markdown",
      "metadata": {
        "id": "slEIWHavqgW7"
      },
      "source": [
        "**1.\tWrite a Python Program to find sum of array?**\n",
        "\n",
        "\n"
      ]
    },
    {
      "cell_type": "code",
      "metadata": {
        "id": "haROH8rhqfjG"
      },
      "source": [
        "def sum_of_array(array_def):\n",
        "  try:\n",
        "    numbers = str(array_def).split(',')\n",
        "    array_ = list(numbers)\n",
        "    sum_array = 0\n",
        "    for i in range(len(array_)):\n",
        "      sum_array += int(array_[i])\n",
        "    return sum_array\n",
        "  except:\n",
        "    return print(\"An error occured, next time use integers\")"
      ],
      "execution_count": 12,
      "outputs": []
    },
    {
      "cell_type": "code",
      "metadata": {
        "colab": {
          "base_uri": "https://localhost:8080/"
        },
        "id": "sokTDmJHq7B6",
        "outputId": "4ecd650a-143a-4ea4-80ca-926234fe0b96"
      },
      "source": [
        "sum = input(\"Please give the values of the array for calculating the sum, seperated by a comma: \")\n",
        "print(\"The sum of the given array is: \", sum_of_array(sum))\n"
      ],
      "execution_count": 19,
      "outputs": [
        {
          "output_type": "stream",
          "text": [
            "Please give the values of the array for calculating the sum, seperated by a comma: 34, 67,2\n",
            "The sum of the given array is:  103\n"
          ],
          "name": "stdout"
        }
      ]
    },
    {
      "cell_type": "markdown",
      "metadata": {
        "id": "poPEQ9nXEYkn"
      },
      "source": [
        "**2.\tWrite a Python Program to find largest element in an array?**"
      ]
    },
    {
      "cell_type": "code",
      "metadata": {
        "colab": {
          "base_uri": "https://localhost:8080/"
        },
        "id": "yMy3Md_ZEofB",
        "outputId": "c91c71bb-3605-49c0-e95c-17568267d9bd"
      },
      "source": [
        "n = int(input(\"give the lenght of the array:\"))\n",
        "array = []\n",
        "for i in range(0,n):\n",
        "  number = int(input())\n",
        "  array.append(number)\n",
        "print(\"The largest element in the array\",array , \"is: \", max(array))"
      ],
      "execution_count": 42,
      "outputs": [
        {
          "output_type": "stream",
          "text": [
            "give the lenght of the array:5\n",
            "34\n",
            "56\n",
            "23\n",
            "1\n",
            "3\n",
            "The largest element in the array [34, 56, 23, 1, 3] is:  56\n"
          ],
          "name": "stdout"
        }
      ]
    },
    {
      "cell_type": "markdown",
      "metadata": {
        "id": "mqjYZ4IYVYBf"
      },
      "source": [
        "**3.\tWrite a Python Program for array rotation?**"
      ]
    },
    {
      "cell_type": "code",
      "metadata": {
        "id": "NR4l2eCbNfTV"
      },
      "source": [
        "# Python program using the List\n",
        "# slicing approch to rotate the array\n",
        "def rotateList(arr,d,n):\n",
        "arr[:]=arr[d:n]+arr[0:d]\n",
        "return arr\n",
        "# Driver function to test above function\n",
        "arr = [1, 2, 3, 4, 5, 6]\n",
        "print(arr)\n",
        "print(\"Rotated list is\")\n",
        "print(rotateList(arr,2,len(arr)))\n",
        "\n",
        "# this code is contributed by virusbuddah\n"
      ],
      "execution_count": null,
      "outputs": []
    },
    {
      "cell_type": "code",
      "metadata": {
        "id": "HBDorH-SbsxW"
      },
      "source": [
        "def rotate_array(array_def,p):\n",
        "  try:\n",
        "    array_def[:] = array_def[len(array_def) -p: len(array_def)] + array_def[0:len(array_def) - p]\n",
        "\n",
        "    return array_def\n",
        "\n",
        "  except:\n",
        "    return print(\"An error occured, next time use integers\")"
      ],
      "execution_count": 8,
      "outputs": []
    },
    {
      "cell_type": "code",
      "metadata": {
        "colab": {
          "base_uri": "https://localhost:8080/"
        },
        "id": "V8IDaDdzpoSF",
        "outputId": "4cdf9478-cde8-4e3c-ae19-6495226b8eed"
      },
      "source": [
        "array = list(input(\"Please give the numbers of the array that will be rotated :\").split(' '))\n",
        "print(array)\n",
        "rotate = int(input(\"Please give the number of rotations : \"))\n",
        "rotate_array(array, rotate)"
      ],
      "execution_count": 10,
      "outputs": [
        {
          "output_type": "stream",
          "text": [
            "Please give the numbers of the array that will be rotated :1 2 3 4 5\n",
            "['1', '2', '3', '4', '5']\n",
            "Please give the number of rotations : 2\n"
          ],
          "name": "stdout"
        },
        {
          "output_type": "execute_result",
          "data": {
            "text/plain": [
              "['4', '5', '1', '2', '3']"
            ]
          },
          "metadata": {
            "tags": []
          },
          "execution_count": 10
        }
      ]
    },
    {
      "cell_type": "markdown",
      "metadata": {
        "id": "OSwEE4_GWFam"
      },
      "source": [
        "\n",
        "**4.\tWrite a Python Program to Split the array and add the first part to the end?**\n"
      ]
    },
    {
      "cell_type": "code",
      "metadata": {
        "id": "pACpGt3YWNMH"
      },
      "source": [
        "def rotate_array(array_def,p):\n",
        "  try:\n",
        "    array_def[:] = array_def[len(array_def) -p: len(array_def)] + array_def[0:len(array_def) - p]\n",
        "\n",
        "    return array_def\n",
        "\n",
        "  except:\n",
        "    return print(\"An error occured, next time use integers\")"
      ],
      "execution_count": null,
      "outputs": []
    },
    {
      "cell_type": "markdown",
      "metadata": {
        "id": "fP_tNq8iWN6H"
      },
      "source": [
        "**5.\tWrite a Python Program to check if given array is Monotonic?**"
      ]
    },
    {
      "cell_type": "code",
      "metadata": {
        "colab": {
          "base_uri": "https://localhost:8080/"
        },
        "id": "Tgq-1MHbWP9D",
        "outputId": "c24f6863-e6a5-4dc5-f887-5698040be2e8"
      },
      "source": [
        "array_input = []\n",
        "\n",
        "def is_monotonic(array_def):\n",
        "  try:\n",
        "    if all([array_def[i] >= array_def[i+1] for i in range(len(array_def)-1)]):\n",
        "      return \"Monotonic decreasing\"\n",
        "    elif all([array_def[i] <= array_def[i+1] for i in range(len(array_def)-1)]):\n",
        "      return \"Monotonic increasing\"\n",
        "    else:\n",
        "      return \"Non-monotonic\"\n",
        "  except:\n",
        "    return \"There was a mistake, pls correct the error\"\n",
        "\n",
        "size = int(input(\"How big is the array ? \"))\n",
        "\n",
        "for i in range(size):\n",
        "  n = int(input(\"Enter the number you would like to add in the array\"))\n",
        "  array_input.append(n)\n",
        "\n",
        "print(is_monotonic(array_input))\n"
      ],
      "execution_count": 14,
      "outputs": [
        {
          "output_type": "stream",
          "text": [
            "How big is the array ? 5\n",
            "Enter the number you would like to add in the array4\n",
            "Enter the number you would like to add in the array6\n",
            "Enter the number you would like to add in the array2\n",
            "Enter the number you would like to add in the array4\n",
            "Enter the number you would like to add in the array8\n",
            "Non-monotonic\n"
          ],
          "name": "stdout"
        }
      ]
    }
  ]
}
