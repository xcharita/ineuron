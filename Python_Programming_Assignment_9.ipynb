{
  "nbformat": 4,
  "nbformat_minor": 0,
  "metadata": {
    "colab": {
      "name": "Python_Programming_Assignment_9.ipynb",
      "provenance": [],
      "authorship_tag": "ABX9TyNM2MmSJ9vg9f5zkPqcBnGL",
      "include_colab_link": true
    },
    "kernelspec": {
      "name": "python3",
      "display_name": "Python 3"
    },
    "language_info": {
      "name": "python"
    }
  },
  "cells": [
    {
      "cell_type": "markdown",
      "metadata": {
        "id": "view-in-github",
        "colab_type": "text"
      },
      "source": [
        "<a href=\"https://colab.research.google.com/github/xcharita/ineuron/blob/main/Python_Programming_Assignment_9.ipynb\" target=\"_parent\"><img src=\"https://colab.research.google.com/assets/colab-badge.svg\" alt=\"Open In Colab\"/></a>"
      ]
    },
    {
      "cell_type": "markdown",
      "metadata": {
        "id": "vdmdrJ8dC-fe"
      },
      "source": [
        "**Write a Python program to check if the given number is a Disarium Number?**"
      ]
    },
    {
      "cell_type": "code",
      "metadata": {
        "id": "XSsxrkucsvla"
      },
      "source": [
        "def is_disarium(string):\n",
        "  disarium = False\n",
        "  number = 0\n",
        " \n",
        "  for i in range(len(string)):\n",
        "    number += (int(string[i]))**(i+1)\n",
        "\n",
        "  if int(string) == number:\n",
        "    disarium = True\n",
        "  return disarium"
      ],
      "execution_count": 59,
      "outputs": []
    },
    {
      "cell_type": "code",
      "metadata": {
        "colab": {
          "base_uri": "https://localhost:8080/"
        },
        "id": "eTTQhwJxDBSd",
        "outputId": "3f80df1a-ea5b-4201-e283-7cb8c7c1ccd8"
      },
      "source": [
        "string = str(input(\"What is the number you are testing for being Disarium? \"))"
      ],
      "execution_count": 60,
      "outputs": [
        {
          "output_type": "stream",
          "text": [
            "What is the number you are testing for being Disarium? 135\n"
          ],
          "name": "stdout"
        }
      ]
    },
    {
      "cell_type": "code",
      "metadata": {
        "colab": {
          "base_uri": "https://localhost:8080/"
        },
        "id": "G4aFLwfODBBg",
        "outputId": "1394205c-fba6-4079-cc56-70a168adba26"
      },
      "source": [
        "is_disarium(string)"
      ],
      "execution_count": 61,
      "outputs": [
        {
          "output_type": "execute_result",
          "data": {
            "text/plain": [
              "True"
            ]
          },
          "metadata": {
            "tags": []
          },
          "execution_count": 61
        }
      ]
    },
    {
      "cell_type": "markdown",
      "metadata": {
        "id": "NXNBNAXVqII9"
      },
      "source": [
        "**Write a Python program to print all disarium numbers between 1 to 100?**"
      ]
    },
    {
      "cell_type": "code",
      "metadata": {
        "colab": {
          "base_uri": "https://localhost:8080/"
        },
        "id": "maTvrbJWDA-m",
        "outputId": "1e4869f9-ab11-4339-dea0-b6d166b7f008"
      },
      "source": [
        "for i in range(1,101):\n",
        "  if is_disarium(str(i)) == True:\n",
        "    print(i)\n"
      ],
      "execution_count": 62,
      "outputs": [
        {
          "output_type": "stream",
          "text": [
            "1\n",
            "2\n",
            "3\n",
            "4\n",
            "5\n",
            "6\n",
            "7\n",
            "8\n",
            "9\n",
            "89\n"
          ],
          "name": "stdout"
        }
      ]
    },
    {
      "cell_type": "markdown",
      "metadata": {
        "id": "dEM6yadyuEdH"
      },
      "source": [
        "**Write a Python program to check if the given number is Happy Number?**"
      ]
    },
    {
      "cell_type": "code",
      "metadata": {
        "id": "AS8PYzXRDA3v"
      },
      "source": [
        "def is_happy(happy):\n",
        "  try:\n",
        "    number = 0\n",
        "    for i in range(len(happy)):\n",
        "      number += int(happy[i])**2\n",
        "    if number == 1:\n",
        "      return True\n",
        "    else:\n",
        "      return is_happy(str(number))\n",
        "  except:\n",
        "    return False\n"
      ],
      "execution_count": 63,
      "outputs": []
    },
    {
      "cell_type": "code",
      "metadata": {
        "colab": {
          "base_uri": "https://localhost:8080/"
        },
        "id": "GVEYn9cyDA7I",
        "outputId": "68083d93-8a27-44a3-94a8-64e4ebcc143c"
      },
      "source": [
        "happy_number = str(input(\"What is the number you would like to test for being a Happy number? \"))"
      ],
      "execution_count": 64,
      "outputs": [
        {
          "output_type": "stream",
          "text": [
            "What is the number you would like to test for being a Happy number? 35\n"
          ],
          "name": "stdout"
        }
      ]
    },
    {
      "cell_type": "code",
      "metadata": {
        "colab": {
          "base_uri": "https://localhost:8080/"
        },
        "id": "V0ZAofBbDAzx",
        "outputId": "9c3e133e-d109-47dc-d1d3-b99e2748de19"
      },
      "source": [
        "is_happy(happy_number)"
      ],
      "execution_count": 65,
      "outputs": [
        {
          "output_type": "execute_result",
          "data": {
            "text/plain": [
              "False"
            ]
          },
          "metadata": {
            "tags": []
          },
          "execution_count": 65
        }
      ]
    },
    {
      "cell_type": "markdown",
      "metadata": {
        "id": "0EnV9ACgBMlE"
      },
      "source": [
        "\n",
        "**Write a Python program to print all happy numbers between 1 and 100?**"
      ]
    },
    {
      "cell_type": "code",
      "metadata": {
        "id": "_UsMgSxADAwe",
        "colab": {
          "base_uri": "https://localhost:8080/"
        },
        "outputId": "b0705f2b-e9a4-4583-f836-0786ce46184a"
      },
      "source": [
        "for i in range(1,101):\n",
        "  if is_happy(str(i)) == True:\n",
        "    print(i)\n"
      ],
      "execution_count": 66,
      "outputs": [
        {
          "output_type": "stream",
          "text": [
            "1\n",
            "7\n",
            "10\n",
            "13\n",
            "19\n",
            "23\n",
            "28\n",
            "31\n",
            "32\n",
            "44\n",
            "49\n",
            "68\n",
            "70\n",
            "79\n",
            "82\n",
            "86\n",
            "91\n",
            "94\n",
            "97\n",
            "100\n"
          ],
          "name": "stdout"
        }
      ]
    },
    {
      "cell_type": "markdown",
      "metadata": {
        "id": "uQIw3dQU6Hqu"
      },
      "source": [
        "**Write a Python program to determine whether the given number is a Harshad Number?**"
      ]
    },
    {
      "cell_type": "code",
      "metadata": {
        "id": "goZ9JXWk6RxA"
      },
      "source": [
        "def is_harshad(test):\n",
        "  number = 0\n",
        "  for i in range(len(test)):\n",
        "    number += int(test[i])\n",
        "  if int(test) % number == 0 :\n",
        "    return \"{0} is a Harshad number\".format(test)\n",
        "  else:\n",
        "    return \"{0} is not a Harshad number\".format(test)\n"
      ],
      "execution_count": 67,
      "outputs": []
    },
    {
      "cell_type": "code",
      "metadata": {
        "colab": {
          "base_uri": "https://localhost:8080/"
        },
        "id": "g5d6F3yd7YcB",
        "outputId": "ede0afaf-4b0f-4463-c9c5-8b1df3316f52"
      },
      "source": [
        "harshad = input(\"Which number would you like to test for Harshad ? \")"
      ],
      "execution_count": 68,
      "outputs": [
        {
          "output_type": "stream",
          "text": [
            "Which number would you like to test for Harshad ? 37\n"
          ],
          "name": "stdout"
        }
      ]
    },
    {
      "cell_type": "code",
      "metadata": {
        "colab": {
          "base_uri": "https://localhost:8080/"
        },
        "id": "3nUR812K7hf_",
        "outputId": "2135e7f4-08ff-4199-d388-068b9130697d"
      },
      "source": [
        "print(is_harshad(harshad))"
      ],
      "execution_count": 69,
      "outputs": [
        {
          "output_type": "stream",
          "text": [
            "37 is not a Harshad number\n"
          ],
          "name": "stdout"
        }
      ]
    },
    {
      "cell_type": "code",
      "metadata": {
        "colab": {
          "base_uri": "https://localhost:8080/"
        },
        "id": "dWSps3Fl7ylE",
        "outputId": "30210994-84b0-42d4-d2d7-eb24f6766d0e"
      },
      "source": [
        "print(is_harshad(str(100)))"
      ],
      "execution_count": 70,
      "outputs": [
        {
          "output_type": "stream",
          "text": [
            "100 is a Harshad number\n"
          ],
          "name": "stdout"
        }
      ]
    },
    {
      "cell_type": "markdown",
      "metadata": {
        "id": "bTSI43UD90tv"
      },
      "source": [
        "**Write a Python program to print all pronic numbers between 1 and 100?**"
      ]
    },
    {
      "cell_type": "code",
      "metadata": {
        "id": "TzdQdscL94sC"
      },
      "source": [
        "def is_pronic(test):\n",
        "  \n",
        "  for i in range(test):\n",
        "    if test == (i*(i+1)):\n",
        "      return True"
      ],
      "execution_count": 71,
      "outputs": []
    },
    {
      "cell_type": "code",
      "metadata": {
        "colab": {
          "base_uri": "https://localhost:8080/"
        },
        "id": "rSgYD0ZoCMsy",
        "outputId": "2908cb27-e166-4d39-b3b5-917409e9ff53"
      },
      "source": [
        "for i in range(1,100):\n",
        "  if is_pronic(i)== True:\n",
        "    print(i)"
      ],
      "execution_count": 72,
      "outputs": [
        {
          "output_type": "stream",
          "text": [
            "2\n",
            "6\n",
            "12\n",
            "20\n",
            "30\n",
            "42\n",
            "56\n",
            "72\n",
            "90\n"
          ],
          "name": "stdout"
        }
      ]
    }
  ]
}