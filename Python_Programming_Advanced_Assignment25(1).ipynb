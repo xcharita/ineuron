{
  "nbformat": 4,
  "nbformat_minor": 0,
  "metadata": {
    "kernelspec": {
      "display_name": "Python 3",
      "language": "python",
      "name": "python3"
    },
    "language_info": {
      "codemirror_mode": {
        "name": "ipython",
        "version": 3
      },
      "file_extension": ".py",
      "mimetype": "text/x-python",
      "name": "python",
      "nbconvert_exporter": "python",
      "pygments_lexer": "ipython3",
      "version": "3.8.5"
    },
    "colab": {
      "name": "Python_Programming_Advanced_Assignment25(1).ipynb",
      "provenance": [],
      "include_colab_link": true
    }
  },
  "cells": [
    {
      "cell_type": "markdown",
      "metadata": {
        "id": "view-in-github",
        "colab_type": "text"
      },
      "source": [
        "<a href=\"https://colab.research.google.com/github/xcharita/ineuron/blob/main/Python_Programming_Advanced_Assignment25(1).ipynb\" target=\"_parent\"><img src=\"https://colab.research.google.com/assets/colab-badge.svg\" alt=\"Open In Colab\"/></a>"
      ]
    },
    {
      "cell_type": "raw",
      "metadata": {
        "id": "dQGQyGdrgpnn"
      },
      "source": [
        "1. Write four functions that directly mutate a list:\n",
        "\n",
        "1.   List item\n",
        "2.   List item\n",
        "\n",
        "\n",
        "\n",
        "    1. repeat(lst, n): Repeat lst n times.\n",
        "    2. add(lst, x): Adds x to the end of the lst.\n",
        "    3. remove(lst, m, n): Removes all elements between indices m and n inclusive in lst.\n",
        "    4. concat(lst, x): concatenates lst with x (another list)."
      ]
    },
    {
      "cell_type": "code",
      "metadata": {
        "id": "GA9Zs3ytgpnr"
      },
      "source": [
        "def repeat(f_lst,f_n):\n",
        "    new_lst=[]\n",
        "    for i in range(f_n):\n",
        "        new_lst.extend(f_lst)\n",
        "    return new_lst\n",
        "\n",
        "def add(f_lst,f_x):\n",
        "    f_lst.append(f_x)\n",
        "    return print(f_lst)"
      ],
      "execution_count": 1,
      "outputs": []
    },
    {
      "cell_type": "code",
      "metadata": {
        "id": "tUHb84YBgpns"
      },
      "source": [
        "def concat(f_lst,f_lst2):\n",
        "    return f_lst + f_lst2"
      ],
      "execution_count": 2,
      "outputs": []
    },
    {
      "cell_type": "code",
      "metadata": {
        "id": "OqUT-RsCgpnt"
      },
      "source": [
        "def remove(f_lst, f_n, f_m):\n",
        "    try:\n",
        "        del f_lst[f_n:f_m+1]\n",
        "        return f_lst\n",
        "    except Exception as e:\n",
        "        print(e)"
      ],
      "execution_count": 3,
      "outputs": []
    },
    {
      "cell_type": "code",
      "metadata": {
        "id": "MHcDZr4ogpnu"
      },
      "source": [
        "lst = [1,2,3,4]"
      ],
      "execution_count": 4,
      "outputs": []
    },
    {
      "cell_type": "code",
      "metadata": {
        "id": "O82lHHT3gpnw",
        "colab": {
          "base_uri": "https://localhost:8080/"
        },
        "outputId": "1026c877-002f-43fe-c0a2-3e4a70e6101c"
      },
      "source": [
        "n = int(input(\"How many times would you like to repeat the list? \"))"
      ],
      "execution_count": 5,
      "outputs": [
        {
          "output_type": "stream",
          "text": [
            "How many times would you like to repeat the list? 3\n"
          ],
          "name": "stdout"
        }
      ]
    },
    {
      "cell_type": "code",
      "metadata": {
        "id": "hMqfBjBcgpn0",
        "colab": {
          "base_uri": "https://localhost:8080/"
        },
        "outputId": "064530ce-b470-4906-b562-c7f3a91ef20a"
      },
      "source": [
        "repeat(lst,n)"
      ],
      "execution_count": 6,
      "outputs": [
        {
          "output_type": "execute_result",
          "data": {
            "text/plain": [
              "[1, 2, 3, 4, 1, 2, 3, 4, 1, 2, 3, 4]"
            ]
          },
          "metadata": {},
          "execution_count": 6
        }
      ]
    },
    {
      "cell_type": "code",
      "metadata": {
        "id": "8Ajqu4kNgpn2",
        "colab": {
          "base_uri": "https://localhost:8080/"
        },
        "outputId": "b3e879e6-0514-41d4-a8a3-51cab77d8409"
      },
      "source": [
        "x = input(\"Which character would you like to add to the list? \")"
      ],
      "execution_count": 7,
      "outputs": [
        {
          "output_type": "stream",
          "text": [
            "Which character would you like to add to the list? a\n"
          ],
          "name": "stdout"
        }
      ]
    },
    {
      "cell_type": "code",
      "metadata": {
        "id": "LZlKJDG-gpn4",
        "colab": {
          "base_uri": "https://localhost:8080/"
        },
        "outputId": "35ef6469-44ad-4c33-8cf7-94f0815fbf31"
      },
      "source": [
        "add(lst, x)"
      ],
      "execution_count": 8,
      "outputs": [
        {
          "output_type": "stream",
          "text": [
            "[1, 2, 3, 4, 'a']\n"
          ],
          "name": "stdout"
        }
      ]
    },
    {
      "cell_type": "code",
      "metadata": {
        "id": "to9PSOg4gpn6",
        "colab": {
          "base_uri": "https://localhost:8080/"
        },
        "outputId": "ba88554f-5cac-41c7-a4c6-be48dddeff74"
      },
      "source": [
        "lst_temp = input(\"Which list would you like to add ? \")\n",
        "lst2 = lst_temp.split(\",\")\n",
        "lst2 = list(int(lst2[i]) for i in range(len(lst2)))"
      ],
      "execution_count": 9,
      "outputs": [
        {
          "output_type": "stream",
          "text": [
            "Which list would you like to add ? 7,23,14\n"
          ],
          "name": "stdout"
        }
      ]
    },
    {
      "cell_type": "code",
      "metadata": {
        "id": "1skjdtFYgpn7"
      },
      "source": [
        "lst = concat(lst, lst2)"
      ],
      "execution_count": 10,
      "outputs": []
    },
    {
      "cell_type": "code",
      "metadata": {
        "id": "yAjI2Wh2gpn9",
        "colab": {
          "base_uri": "https://localhost:8080/"
        },
        "outputId": "af0f8b7a-7fe5-4f50-b94a-980bdf9352ed"
      },
      "source": [
        "n = int(input(\"Pls give the lower index of the list\"))\n",
        "m = int(input(\"Pls give the upper index of the list\"))"
      ],
      "execution_count": 11,
      "outputs": [
        {
          "output_type": "stream",
          "text": [
            "Pls give the lower index of the list2\n",
            "Pls give the upper index of the list4\n"
          ],
          "name": "stdout"
        }
      ]
    },
    {
      "cell_type": "code",
      "metadata": {
        "id": "tz-sWMb7gpn9",
        "colab": {
          "base_uri": "https://localhost:8080/"
        },
        "outputId": "783d713e-c910-4e3f-8bb7-f3f974497aed"
      },
      "source": [
        "remove(lst,n, m)"
      ],
      "execution_count": 12,
      "outputs": [
        {
          "output_type": "execute_result",
          "data": {
            "text/plain": [
              "[1, 2, 7, 23, 14]"
            ]
          },
          "metadata": {},
          "execution_count": 12
        }
      ]
    },
    {
      "cell_type": "raw",
      "metadata": {
        "id": "Llnqszb-gpn-"
      },
      "source": [
        "2. The classic game of Mastermind is played on a tray on which the Mastermind conceals a code and the Guesser has 10 tries to guess it. The code is a sequence of 4 (or 6, sometimes more) pegs of different colors. Each guess is a corresponding sequence of 4 (or more) pegs of different colors. A guess is \"correct\" when the color of every peg in the guess exactly matches the corresponding peg in the Mastermind's code.\n",
        "\n",
        "After each guess by the Guesser, the Mastermind will give a score comprising black & white pegs, not arranged in any order:\n",
        "\n",
        "   - Black peg == guess peg matches the color of a code peg in the same position.\n",
        "   - White peg == guess peg matches the color of a code peg in another position.\n",
        "\n",
        "Create a function that takes two strings, code and guess as arguments, and returns the score in a dictionary.\n",
        "\n",
        "   - The code and guess are strings of numeric digits\n",
        "   - The color of the pegs are represented by numeric digits\n",
        "   - no \"peg\" may be double-scored\n"
      ]
    },
    {
      "cell_type": "code",
      "metadata": {
        "id": "GSZcdkiNgpoB"
      },
      "source": [
        "import numpy as np"
      ],
      "execution_count": 13,
      "outputs": []
    },
    {
      "cell_type": "code",
      "metadata": {
        "id": "G2jfPJTJgpoB"
      },
      "source": [
        "def guess_score(code, guess):\n",
        "    masterdict = {'black': 0, 'white': 0}\n",
        "    if code == guess:\n",
        "        print(\"All good, you have guessed the values and the positions with it\")\n",
        "    else:\n",
        "        for i in range(len(guess)):\n",
        "            if (guess[i] in code) and (code.index(guess[i]) == i):\n",
        "                print('{position' , i, 'is correct with',guess[i] ,'} :BLACK PEG')\n",
        "                masterdict['black'] += 1\n",
        "            elif (guess[i] in code) and (code.index(guess[i]) != i):\n",
        "                masterdict['white'] += 1\n",
        "                print('{position' ,guess.index(guess[i]),'is not correct with',guess[i] ,'but it is present in code','} :WHITE PEG')\n",
        "            else:\n",
        "                print('{position',guess.index(guess[i]), 'and digit were guessed wrong}')\n",
        "    return masterdict"
      ],
      "execution_count": 14,
      "outputs": []
    },
    {
      "cell_type": "code",
      "metadata": {
        "id": "HUTdj7IHgpoC",
        "colab": {
          "base_uri": "https://localhost:8080/"
        },
        "outputId": "e62de555-9f97-493f-b5a5-7f3a288068d8"
      },
      "source": [
        "digit1 = int(np.random.randint(9,size=1))\n",
        "digit2 = int(np.random.randint(9,size=1))\n",
        "digit3 = int(np.random.randint(9,size=1))\n",
        "digit4 = int(np.random.randint(9,size=1))\n",
        "\n",
        "code = list(str(digit1)+str(digit2)+str(digit3)+str(digit4))\n",
        "print(code)\n"
      ],
      "execution_count": 15,
      "outputs": [
        {
          "output_type": "stream",
          "text": [
            "['7', '3', '3', '2']\n"
          ],
          "name": "stdout"
        }
      ]
    },
    {
      "cell_type": "code",
      "metadata": {
        "id": "N2hmSloMgpoE",
        "colab": {
          "base_uri": "https://localhost:8080/"
        },
        "outputId": "9b4ded92-e3ae-4496-f946-3711834e5a57"
      },
      "source": [
        "guess = list(input(\"Pls guess the 4 digit code: \"))\n",
        "\n"
      ],
      "execution_count": 16,
      "outputs": [
        {
          "output_type": "stream",
          "text": [
            "Pls guess the 4 digit code: 3561\n"
          ],
          "name": "stdout"
        }
      ]
    },
    {
      "cell_type": "code",
      "metadata": {
        "id": "OYHJyGGxgpoF",
        "colab": {
          "base_uri": "https://localhost:8080/"
        },
        "outputId": "0ac333d5-a711-4111-b7fa-b877994eef46"
      },
      "source": [
        "guess_score(code, guess)"
      ],
      "execution_count": 17,
      "outputs": [
        {
          "output_type": "stream",
          "text": [
            "{position 0 is not correct with 3 but it is present in code } :WHITE PEG\n",
            "{position 1 and digit were guessed wrong}\n",
            "{position 2 and digit were guessed wrong}\n",
            "{position 3 and digit were guessed wrong}\n"
          ],
          "name": "stdout"
        },
        {
          "output_type": "execute_result",
          "data": {
            "text/plain": [
              "{'black': 0, 'white': 1}"
            ]
          },
          "metadata": {},
          "execution_count": 17
        }
      ]
    },
    {
      "cell_type": "raw",
      "metadata": {
        "id": "SrfShQ76gpoG"
      },
      "source": [
        "3. Create a function that takes a list lst and a number N and returns a list of two integers from lst whose product equals N."
      ]
    },
    {
      "cell_type": "code",
      "metadata": {
        "id": "wvZqvvaWgpoG"
      },
      "source": [
        "def two_product(lst, number):\n",
        "    two_integers = []\n",
        "    for i in lst:\n",
        "        int_i = int(i)\n",
        "        if number%int_i == 0 and (number//int_i > 1):\n",
        "            two_integers.append(int_i)\n",
        "            if len(two_integers) == 2 :\n",
        "                product = two_integers[0]*two_integers[1]\n",
        "                if product == number:\n",
        "                    break;\n",
        "                else:\n",
        "                    two_integers.pop(0)\n",
        "    return two_integers"
      ],
      "execution_count": 18,
      "outputs": []
    },
    {
      "cell_type": "code",
      "metadata": {
        "id": "5eAj-ioZgpoH",
        "colab": {
          "base_uri": "https://localhost:8080/"
        },
        "outputId": "56764225-14a7-445d-a3bc-4f1e1deb6823"
      },
      "source": [
        "lst = str(input(\"Please give your list for calculation \")).split(',')"
      ],
      "execution_count": 19,
      "outputs": [
        {
          "output_type": "stream",
          "text": [
            "Please give your list for calculation 4,5,1,2\n"
          ],
          "name": "stdout"
        }
      ]
    },
    {
      "cell_type": "code",
      "metadata": {
        "id": "iNSnA2s0gpoI",
        "colab": {
          "base_uri": "https://localhost:8080/"
        },
        "outputId": "3f0e5258-a534-4580-ac40-c1e1bc2fc4fe"
      },
      "source": [
        "N = int(input(\"Please give the number N you would like to have as multiplication output: \"))"
      ],
      "execution_count": 20,
      "outputs": [
        {
          "output_type": "stream",
          "text": [
            "Please give the number N you would like to have as multiplication output: 2\n"
          ],
          "name": "stdout"
        }
      ]
    },
    {
      "cell_type": "code",
      "metadata": {
        "id": "eYFvUW98gpoJ",
        "colab": {
          "base_uri": "https://localhost:8080/"
        },
        "outputId": "0cc2b499-7b4c-488a-b484-e32867223354"
      },
      "source": [
        "print(\"The product of\", two_product(lst,N), \"is\", N)"
      ],
      "execution_count": 21,
      "outputs": [
        {
          "output_type": "stream",
          "text": [
            "The product of [1] is 2\n"
          ],
          "name": "stdout"
        }
      ]
    },
    {
      "cell_type": "markdown",
      "metadata": {
        "id": "vJysrbC2fgwO"
      },
      "source": [
        "4. In this challenge, sort a list containing a series of dates given as strings. Each date is given in the format DD-MM-YYYY_HH:MM:\n",
        "\n",
        "\"12-02-2012_13:44\"\n",
        "\n",
        "The priority of criteria used for sorting will be:\n",
        "\n",
        "  - Year\n",
        "  - Month\n",
        "  - Day\n",
        "  - Hours\n",
        "  - Minutes\n",
        "\n",
        "Given a list lst and a string mode, implement a function that returns:\n",
        "\n",
        "   - if mode is equal to \"ASC\", the list lst sorted in ascending order.\n",
        "   - if mode is equal to \"DSC\", the list lst sorted in descending order.\n",
        "\n",
        "Examples\n",
        "\n",
        "sort_dates([\"10-02-2018_12:30\", \"10-02-2016_12:30\", \"10-02-2018_12:15\"], \"ASC\") ➞ [\"10-02-2016_12:30\", \"10-02-2018_12:15\", \"10-02-2018_12:30\"]\n",
        "\n",
        "sort_dates([\"10-02-2018_12:30\", \"10-02-2016_12:30\", \"10-02-2018_12:15\"], \"DSC\") ➞ [\"10-02-2018_12:30\", \"10-02-2018_12:15\", \"10-02-2016_12:30\"]\n",
        "\n",
        "sort_dates([\"09-02-2000_10:03\", \"10-02-2000_18:29\", \"01-01-1999_00:55\"], \"ASC\") ➞ [\"01-01-1999_00:55\", \"09-02-2000_10:03\", \"10-02-2000_18:29\"]\n"
      ]
    },
    {
      "cell_type": "code",
      "metadata": {
        "id": "rgoH82dGw4bb"
      },
      "source": [
        "# Import the datetime module\n",
        "from datetime import datetime"
      ],
      "execution_count": 22,
      "outputs": []
    },
    {
      "cell_type": "code",
      "metadata": {
        "id": "k5jdeSCIgpoJ"
      },
      "source": [
        "\t\n",
        "# Function to print the data stored in the list\n",
        "def sort_dates(sdates, reverse ):\n",
        "  for i in range(len(sdates)):\n",
        "    sdates[i] = datetime.strptime(sdates[i], '%d-%m-%Y_%H:%M')\n",
        "  if reverse == \"ASC\":\n",
        "    rev = False\n",
        "  else:\n",
        "    rev = True\n",
        "  sorted_dates = sorted(sdates, reverse=rev)\n",
        "  dates = [sd.strftime('%d-%m-%Y_%H:%M') for sd in sorted_dates]\n",
        "  return dates\n"
      ],
      "execution_count": 23,
      "outputs": []
    },
    {
      "cell_type": "code",
      "metadata": {
        "colab": {
          "base_uri": "https://localhost:8080/"
        },
        "id": "ZqUOp2vOp4YU",
        "outputId": "861e8b79-578e-4d43-d1aa-ece57bec2ffe"
      },
      "source": [
        "print(sort_dates([\"10-02-2018_12:30\", \"10-02-2016_12:30\", \"10-02-2018_12:15\"], \"DSC\"))"
      ],
      "execution_count": 24,
      "outputs": [
        {
          "output_type": "stream",
          "text": [
            "['10-02-2018_12:30', '10-02-2018_12:15', '10-02-2016_12:30']\n"
          ],
          "name": "stdout"
        }
      ]
    },
    {
      "cell_type": "markdown",
      "metadata": {
        "id": "XP5DZwy7xHrZ"
      },
      "source": [
        "5. Write a function that selects all words that have all the same vowels (in any order and/or number) as the first word, including the first word.\n",
        "\n",
        "Examples\n",
        "\n",
        "same_vowel_group([\"toe\", \"ocelot\", \"maniac\"]) ➞ [\"toe\", \"ocelot\"]\n",
        "\n",
        "same_vowel_group([\"many\", \"carriage\", \"emit\", \"apricot\", \"animal\"]) ➞ [\"many\"]\n",
        "\n",
        "same_vowel_group([\"hoops\", \"chuff\", \"bot\", \"bottom\"]) ➞ [\"hoops\", \"bot\", \"bottom\"]\n",
        "\n"
      ]
    },
    {
      "cell_type": "code",
      "metadata": {
        "id": "xL6n2r7hA729"
      },
      "source": [
        "def same_vowel_group(vlist):\n",
        "  vowel = ['a','i','o','u','e']\n",
        "  vow = []\n",
        "  new_list = []\n",
        "  for v in vlist[0]:\n",
        "    if v in vowel and v not in vow:\n",
        "      vow.append(v)\n",
        "  if vow == []:\n",
        "    return print(\"There is no vowel in the first word\")\n",
        "  else:\n",
        "    new_list.append(vlist[0])\n",
        "    for i in range(1,len(vlist)):\n",
        "      found = False\n",
        "      llist = [ c for c in str(vlist[i]) if c in vowel]\n",
        "      compare = list(set(llist))\n",
        "      if compare == vow:\n",
        "          new_list.append(vlist[i])\n",
        "  return print(new_list)"
      ],
      "execution_count": 25,
      "outputs": []
    },
    {
      "cell_type": "code",
      "metadata": {
        "colab": {
          "base_uri": "https://localhost:8080/"
        },
        "id": "99EBdd3InNWU",
        "outputId": "197075b9-1379-4676-9e02-aae4601137df"
      },
      "source": [
        "same_vowel_group([\"toe\", \"ocelot\", \"maniac\"])"
      ],
      "execution_count": 26,
      "outputs": [
        {
          "output_type": "stream",
          "text": [
            "['toe', 'ocelot']\n"
          ],
          "name": "stdout"
        }
      ]
    },
    {
      "cell_type": "code",
      "metadata": {
        "colab": {
          "base_uri": "https://localhost:8080/"
        },
        "id": "UvK41xTFqcjp",
        "outputId": "6a193000-1b27-41d5-f591-7aa306363a0f"
      },
      "source": [
        "same_vowel_group([\"hoops\", \"chuff\", \"bot\", \"bottom\"])"
      ],
      "execution_count": 27,
      "outputs": [
        {
          "output_type": "stream",
          "text": [
            "['hoops', 'bot', 'bottom']\n"
          ],
          "name": "stdout"
        }
      ]
    },
    {
      "cell_type": "code",
      "metadata": {
        "colab": {
          "base_uri": "https://localhost:8080/"
        },
        "id": "e1z3IKWDAzzx",
        "outputId": "6066fc75-53ff-4150-d3e4-95d2365afa32"
      },
      "source": [
        "same_vowel_group([\"many\", \"carriage\", \"emit\", \"apricot\", \"animal\"])"
      ],
      "execution_count": 28,
      "outputs": [
        {
          "output_type": "stream",
          "text": [
            "['many']\n"
          ],
          "name": "stdout"
        }
      ]
    },
    {
      "cell_type": "markdown",
      "metadata": {
        "id": "ZmW3_vkCA0Vf"
      },
      "source": [
        "6. Create a function that takes a list of more than three numbers and returns the Least Common Multiple (LCM).\n",
        "\n",
        "Examples\n",
        "\n",
        "lcm_of_list([1, 2, 3, 4, 5, 6, 7, 8, 9, 10]) ➞ 2520\n",
        "\n",
        "lcm_of_list([13, 6, 17, 18, 19, 20, 37]) ➞ 27965340\n",
        "\n",
        "lcm_of_list([44, 64, 12, 17, 65]) ➞ 2333760\n"
      ]
    },
    {
      "cell_type": "code",
      "metadata": {
        "id": "zHBGt8ecA1OU"
      },
      "source": [
        "from functools import reduce\n",
        "from math import gcd\n",
        "\n",
        "def lcm_of_list(numbers):\n",
        "  return reduce((lambda x, y: int(x * y / gcd(x, y))), numbers)"
      ],
      "execution_count": 29,
      "outputs": []
    },
    {
      "cell_type": "code",
      "metadata": {
        "colab": {
          "base_uri": "https://localhost:8080/"
        },
        "id": "xPX2u4v1DE9V",
        "outputId": "4dd7eae0-361e-4cf7-9d2f-66236cbaa26b"
      },
      "source": [
        "lcm_of_list([44, 64, 12, 17, 65])"
      ],
      "execution_count": 30,
      "outputs": [
        {
          "output_type": "execute_result",
          "data": {
            "text/plain": [
              "2333760"
            ]
          },
          "metadata": {},
          "execution_count": 30
        }
      ]
    },
    {
      "cell_type": "code",
      "metadata": {
        "colab": {
          "base_uri": "https://localhost:8080/"
        },
        "id": "Zsk4JxL4DIis",
        "outputId": "b7be649e-5ced-440c-872c-58dc170191a1"
      },
      "source": [
        "lcm_of_list([13, 6, 17, 18, 19, 20, 37]) "
      ],
      "execution_count": 31,
      "outputs": [
        {
          "output_type": "execute_result",
          "data": {
            "text/plain": [
              "27965340"
            ]
          },
          "metadata": {},
          "execution_count": 31
        }
      ]
    },
    {
      "cell_type": "code",
      "metadata": {
        "colab": {
          "base_uri": "https://localhost:8080/"
        },
        "id": "sUqtYlBXDK_I",
        "outputId": "021b32cd-86d9-4143-a8c2-17dbeb77de0b"
      },
      "source": [
        "lcm_of_list([1, 2, 3, 4, 5, 6, 7, 8, 9, 10]) "
      ],
      "execution_count": 32,
      "outputs": [
        {
          "output_type": "execute_result",
          "data": {
            "text/plain": [
              "2520"
            ]
          },
          "metadata": {},
          "execution_count": 32
        }
      ]
    }
  ]
}