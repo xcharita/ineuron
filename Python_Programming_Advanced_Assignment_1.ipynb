{
  "nbformat": 4,
  "nbformat_minor": 0,
  "metadata": {
    "colab": {
      "name": "Python_Programming_Advanced_Assignment_1.ipynb",
      "provenance": [],
      "authorship_tag": "ABX9TyNORFJD+Ft7Yj5tUcED5iBW",
      "include_colab_link": true
    },
    "kernelspec": {
      "name": "python3",
      "display_name": "Python 3"
    },
    "language_info": {
      "name": "python"
    }
  },
  "cells": [
    {
      "cell_type": "markdown",
      "metadata": {
        "id": "view-in-github",
        "colab_type": "text"
      },
      "source": [
        "<a href=\"https://colab.research.google.com/github/xcharita/ineuron/blob/main/Python_Programming_Advanced_Assignment_1.ipynb\" target=\"_parent\"><img src=\"https://colab.research.google.com/assets/colab-badge.svg\" alt=\"Open In Colab\"/></a>"
      ]
    },
    {
      "cell_type": "markdown",
      "metadata": {
        "id": "1qU4kgexFNMd"
      },
      "source": [
        "***Write a function that takes a list of lists and returns the value of all of the symbols in it, where each symbol adds or takes something from the total score. ***"
      ]
    },
    {
      "cell_type": "code",
      "metadata": {
        "id": "xn1sOPJ24QjY"
      },
      "source": [
        "symbols = {\n",
        "  '#'   : 5,\n",
        "  'O'   : 3,\n",
        "  'X'   : 1,\n",
        "  '!'   : -1,\n",
        "  '!!'  : -3,\n",
        "  '!!!' : -5\n",
        "\n",
        "}"
      ],
      "execution_count": 4,
      "outputs": []
    },
    {
      "cell_type": "code",
      "metadata": {
        "id": "Kcdlqyb44EoQ"
      },
      "source": [
        "def check_score(test):\n",
        "  number = 0\n",
        "  for i in range(len(test)):\n",
        "    for j in range(len(test[i])):\n",
        "      \n",
        "      if test[i][j] in symbols.keys():\n",
        "        number += symbols.get(test[i][j])\n",
        "        \n",
        "    return max(number,0)\n",
        "  \n"
      ],
      "execution_count": 59,
      "outputs": []
    },
    {
      "cell_type": "code",
      "metadata": {
        "colab": {
          "base_uri": "https://localhost:8080/"
        },
        "id": "76NF8yc_4QZQ",
        "outputId": "c7714682-3e91-45bc-b63d-29825d8e19ae"
      },
      "source": [
        "print(check_score([\n",
        "  [\"!!!\", \"O\", \"!\"],\n",
        "  [\"X\", \"#\", \"!!!\"],\n",
        "  [\"!!\", \"X\", \"O\"]\n",
        "]))\n"
      ],
      "execution_count": 60,
      "outputs": [
        {
          "output_type": "stream",
          "text": [
            "0\n"
          ],
          "name": "stdout"
        }
      ]
    },
    {
      "cell_type": "markdown",
      "metadata": {
        "id": "z7EFgcPAF1l0"
      },
      "source": [
        "**Create a function that takes a variable number of arguments, each argument representing the number of items in a group, and returns the number of permutations (combinations) of items that you could get by taking one item from each group.**"
      ]
    },
    {
      "cell_type": "code",
      "metadata": {
        "id": "amw5D99UF0x1"
      },
      "source": [
        "def combinations(numbers):\n",
        "  result=1\n",
        "  for num in numbers:\n",
        "    result = result*int(num)\n",
        "  return result\n"
      ],
      "execution_count": 108,
      "outputs": []
    },
    {
      "cell_type": "code",
      "metadata": {
        "colab": {
          "base_uri": "https://localhost:8080/"
        },
        "id": "A5jEp6tQFDs4",
        "outputId": "450faa35-f051-40ae-ddd8-3322d43a5050"
      },
      "source": [
        "perm = input(\"Give the numbers you would like to permutate, seperated by a comma : \").split(',')"
      ],
      "execution_count": 109,
      "outputs": [
        {
          "output_type": "stream",
          "text": [
            "Give the numbers you would like to permutate, seperated by a comma : 3,7,4\n"
          ],
          "name": "stdout"
        }
      ]
    },
    {
      "cell_type": "code",
      "metadata": {
        "colab": {
          "base_uri": "https://localhost:8080/"
        },
        "id": "3dJf8-nPGZ3Z",
        "outputId": "668c525a-283b-4d84-edca-c94a4d1c6e1c"
      },
      "source": [
        "print(combinations(perm))"
      ],
      "execution_count": 110,
      "outputs": [
        {
          "output_type": "stream",
          "text": [
            "84\n"
          ],
          "name": "stdout"
        }
      ]
    },
    {
      "cell_type": "markdown",
      "metadata": {
        "id": "NCwnoWtoQXNd"
      },
      "source": [
        "**Create a function that takes a string as an argument and returns the Morse code equivalent.**"
      ]
    },
    {
      "cell_type": "code",
      "metadata": {
        "id": "VHeJZ6JJIW7V"
      },
      "source": [
        "char_to_dots = {\n",
        "  'A': '.-', 'B': '-...', 'C': '-.-.', 'D': '-..', 'E': '.', 'F': '..-.',\n",
        "  'G': '--.', 'H': '....', 'I': '..', 'J': '.---', 'K': '-.-', 'L': '.-..',\n",
        "  'M': '--', 'N': '-.', 'O': '---', 'P': '.--.', 'Q': '--.-', 'R': '.-.',\n",
        "  'S': '...', 'T': '-', 'U': '..-', 'V': '...-', 'W': '.--', 'X': '-..-',\n",
        "  'Y': '-.--', 'Z': '--..', ' ': ' ', '0': '-----',\n",
        "  '1': '.----', '2': '..---', '3': '...--', '4': '....-', '5': '.....',\n",
        "  '6': '-....', '7': '--...', '8': '---..', '9': '----.',\n",
        "  '&': '.-...', \"'\": '.----.', '@': '.--.-.', ')': '-.--.-', '(': '-.--.',\n",
        "  ':': '---...', ',': '--..--', '=': '-...-', '!': '-.-.--', '.': '.-.-.-',\n",
        "  '-': '-....-', '+': '.-.-.', '\"': '.-..-.', '?': '..--..', '/': '-..-.'\n",
        "}\n"
      ],
      "execution_count": 111,
      "outputs": []
    },
    {
      "cell_type": "code",
      "metadata": {
        "id": "gKs4IxXLQWFZ"
      },
      "source": [
        "def encode_morse(code):\n",
        "  morse = ''\n",
        "  for i in range(len(list(code))):\n",
        "    if code[i] in char_to_dots.keys():\n",
        "      morse = morse + ' ' + char_to_dots[code[i]]\n",
        "  return morse"
      ],
      "execution_count": 154,
      "outputs": []
    },
    {
      "cell_type": "code",
      "metadata": {
        "colab": {
          "base_uri": "https://localhost:8080/"
        },
        "id": "ZDWl046AQr6j",
        "outputId": "b5894592-08ff-458e-bce3-7d1f8f51ea07"
      },
      "source": [
        "text = str(input('please give the text to encode into Morse : '))"
      ],
      "execution_count": 155,
      "outputs": [
        {
          "output_type": "stream",
          "text": [
            "please give the text to encode into Morse : HELP ME!\n"
          ],
          "name": "stdout"
        }
      ]
    },
    {
      "cell_type": "code",
      "metadata": {
        "colab": {
          "base_uri": "https://localhost:8080/"
        },
        "id": "aKngcLP4Q0jR",
        "outputId": "cbfb56cb-2a54-42fc-b8a5-510c6324237e"
      },
      "source": [
        "print(encode_morse(text))"
      ],
      "execution_count": 156,
      "outputs": [
        {
          "output_type": "stream",
          "text": [
            " .... . .-.. .--.   -- . -.-.--\n"
          ],
          "name": "stdout"
        }
      ]
    },
    {
      "cell_type": "markdown",
      "metadata": {
        "id": "5r_qaI7JUsxy"
      },
      "source": [
        "**Write a function that takes a number and returns True if it's a prime; False otherwise. The number can be 2^64-1 (2 to the power of 63, not XOR). With the standard technique it would be O(2^64-1), which is much too large for the 10 second time limit.**"
      ]
    },
    {
      "cell_type": "code",
      "metadata": {
        "id": "o-MeuBbzSoU6"
      },
      "source": [
        "def prime_or_not(number):\n",
        "  if number > 1:\n",
        "      for i in range(2, number):\n",
        "          if (number % i) == 0:\n",
        "              print(number, \"is not a prime number\")\n",
        "              break\n",
        "          else:\n",
        "            print(number, \"is a prime number\")\n",
        "            break\n",
        "  else:\n",
        "      print(number, \"is not a prime number\")"
      ],
      "execution_count": 96,
      "outputs": []
    },
    {
      "cell_type": "code",
      "metadata": {
        "colab": {
          "base_uri": "https://localhost:8080/"
        },
        "id": "173k14VSUrsG",
        "outputId": "626a27c6-cee0-4da0-bb05-6a48ca769b37"
      },
      "source": [
        "num = int(input(\"What is the number you would like to test on prime : \"))"
      ],
      "execution_count": 90,
      "outputs": [
        {
          "output_type": "stream",
          "text": [
            "What is the number you would like to test on prime : 345\n"
          ],
          "name": "stdout"
        }
      ]
    },
    {
      "cell_type": "code",
      "metadata": {
        "colab": {
          "base_uri": "https://localhost:8080/"
        },
        "id": "S-FOW7DFUroH",
        "outputId": "dd23a878-ef23-4f4f-a369-7562ba3fcc5d"
      },
      "source": [
        "prime_or_not(num)"
      ],
      "execution_count": 97,
      "outputs": [
        {
          "output_type": "stream",
          "text": [
            "345 is a prime number\n"
          ],
          "name": "stdout"
        }
      ]
    },
    {
      "cell_type": "markdown",
      "metadata": {
        "id": "JFPzIhLUU_pv"
      },
      "source": [
        "**Create a function that converts a word to a bitstring and then to a boolean list based on the following criteria:**\n",
        "\n",
        "    1. Locate the position of the letter in the English alphabet (from 1 to 26).\n",
        "    2. Odd positions will be represented as 1 and 0 otherwise.\n",
        "    3. Convert the represented positions to boolean values, 1 for True and 0 for False.\n",
        "    4. Store the conversions into an array. \n"
      ]
    },
    {
      "cell_type": "code",
      "metadata": {
        "id": "eNX-cIRwyy_u"
      },
      "source": [
        "import string"
      ],
      "execution_count": 1,
      "outputs": []
    },
    {
      "cell_type": "code",
      "metadata": {
        "id": "oFeyk1NH5-64"
      },
      "source": [
        "i = {ch: n for n, ch in enumerate(string.ascii_lowercase,1)}\n",
        "j = {ch: n for n, ch in enumerate(string.ascii_uppercase,1)}"
      ],
      "execution_count": 36,
      "outputs": []
    },
    {
      "cell_type": "code",
      "metadata": {
        "id": "NpI7_Qgi0O74"
      },
      "source": [
        "def conversion(wrd):\n",
        "\n",
        "  try:\n",
        "    conv = []\n",
        "    for w in wrd:\n",
        "      \n",
        "      \n",
        "      if w in i.keys() or w in j.keys() :\n",
        "          if i[w]%2 == 0:\n",
        "            conv.append(False)\n",
        "            \n",
        "          elif i[w]%2 == 1:\n",
        "            conv.append(True)\n",
        "            \n",
        "          else:\n",
        "            conv = \"Try to start again and make a word from the alphabet\"\n",
        "        \n",
        "  except:\n",
        "      conv = \"Try to make a new word with from the alphabet\"\n",
        "\n",
        "  return conv\n"
      ],
      "execution_count": 85,
      "outputs": []
    },
    {
      "cell_type": "code",
      "metadata": {
        "colab": {
          "base_uri": "https://localhost:8080/"
        },
        "id": "Y4nsHf6mUrkv",
        "outputId": "f8e4c8e5-c311-4a1e-b5a4-8cba7884a28d"
      },
      "source": [
        "word = input(\"What is the word you would like to have the boolean characters for? \")"
      ],
      "execution_count": 52,
      "outputs": [
        {
          "output_type": "stream",
          "text": [
            "What is the word you would like to have the boolean characters for? hello\n"
          ],
          "name": "stdout"
        }
      ]
    },
    {
      "cell_type": "code",
      "metadata": {
        "colab": {
          "base_uri": "https://localhost:8080/"
        },
        "id": "2LWFFhFUU3bi",
        "outputId": "bb6d0661-126a-4dd5-c268-2efd7869d411"
      },
      "source": [
        "print(conversion(word))"
      ],
      "execution_count": 86,
      "outputs": [
        {
          "output_type": "stream",
          "text": [
            "[False, True, False, False, True]\n"
          ],
          "name": "stdout"
        }
      ]
    }
  ]
}