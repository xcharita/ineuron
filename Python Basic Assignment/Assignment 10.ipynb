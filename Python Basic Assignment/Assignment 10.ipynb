{
 "cells": [
  {
   "cell_type": "markdown",
   "metadata": {},
   "source": [
    "1. How do you distinguish between shutil.copy() and shutil.copytree()?\n",
    "\n",
    "shutil.copy() helps in automating process of copying and removal of files and directories. shutil.copytree() method recursively copies an entire directory tree rooted at source (src) to the destination directory. The destination directory, named by (dst) must not already exist. It will be created during copying."
   ]
  },
  {
   "cell_type": "markdown",
   "metadata": {},
   "source": [
    "2. What is the name of the feature used to rename files?\n",
    "\n",
    "os.rename(src, dst) eg. os.rename('ineuron.jpg', 'ineuron.pdf')"
   ]
  },
  {
   "cell_type": "markdown",
   "metadata": {},
   "source": [
    "3. How are the delete functions in the send2trash and shutil modules different?\n",
    "\n",
    "The send2trash functions will move a file or folder to the recycle bin, while shutil functions will permanently delete files and folders."
   ]
  },
  {
   "cell_type": "markdown",
   "metadata": {},
   "source": [
    "4. ZipFile objects have a close() function that is similar to that of File objects. What ZipFile method is similar to the open() method of File objects?\n",
    "\n",
    "ZipFile.open(name, mode='r', pwd=None, *, force_zip64=False)"
   ]
  },
  {
   "cell_type": "markdown",
   "metadata": {},
   "source": [
    "5. Create a programme that searches a folder tree for files with a certain file extension (such as .pdf or .jpg). Copy these files to a new folder from wherever they are now.\n",
    "\n"
   ]
  },
  {
   "cell_type": "code",
   "execution_count": 1,
   "metadata": {},
   "outputs": [],
   "source": [
    "import os\n",
    "import shutil "
   ]
  },
  {
   "cell_type": "code",
   "execution_count": 11,
   "metadata": {},
   "outputs": [
    {
     "name": "stdout",
     "output_type": "stream",
     "text": [
      ".DS_Store\n",
      "Assignment_4.docx\n",
      "Copy of Assignment_7.docx\n",
      "Assignment_3.docx\n",
      "destination\n",
      "Assignment_9.txt\n",
      "DS/iNeuron/Assignment/Assignment_9.txt\n",
      "Charita of Assignment_2.docx\n",
      "Assignment_8.txt\n",
      "DS/iNeuron/Assignment/Assignment_8.txt\n",
      "Assignment_5.txt\n",
      "DS/iNeuron/Assignment/Assignment_5.txt\n",
      "Assignment_4.txt\n",
      "DS/iNeuron/Assignment/Assignment_4.txt\n",
      "Assignment_6.txt\n",
      "DS/iNeuron/Assignment/Assignment_6.txt\n",
      "Assignment_7.txt\n",
      "DS/iNeuron/Assignment/Assignment_7.txt\n",
      "Assignment_3.txt\n",
      "DS/iNeuron/Assignment/Assignment_3.txt\n",
      "Assignment_11.txt\n",
      "DS/iNeuron/Assignment/Assignment_11.txt\n",
      "Assignment_10.txt\n",
      "DS/iNeuron/Assignment/Assignment_10.txt\n",
      "Assignment_2.txt\n",
      "DS/iNeuron/Assignment/Assignment_2.txt\n",
      "Assignment_1.txt\n",
      "DS/iNeuron/Assignment/Assignment_1.txt\n",
      "Copy of Assignment_10.docx\n",
      "Copy of Assignment_8.docx\n",
      "Copy of Assignment_9.docx\n",
      "Copy of Assignment_11.docx\n"
     ]
    }
   ],
   "source": [
    "dst = 'DS/iNeuron/Assignment/destination/'\n",
    "src = 'DS/iNeuron/Assignment/'\n",
    "for file in os.listdir(src):\n",
    "    print(file)\n",
    "    if file.endswith(\".txt\"):\n",
    "        srcfile = src + file \n",
    "        print(srcfile)\n",
    "        shutil.copy(srcfile, dst) "
   ]
  },
  {
   "cell_type": "code",
   "execution_count": null,
   "metadata": {},
   "outputs": [],
   "source": []
  }
 ],
 "metadata": {
  "kernelspec": {
   "display_name": "Python 3",
   "language": "python",
   "name": "python3"
  },
  "language_info": {
   "codemirror_mode": {
    "name": "ipython",
    "version": 3
   },
   "file_extension": ".py",
   "mimetype": "text/x-python",
   "name": "python",
   "nbconvert_exporter": "python",
   "pygments_lexer": "ipython3",
   "version": "3.8.5"
  }
 },
 "nbformat": 4,
 "nbformat_minor": 4
}
