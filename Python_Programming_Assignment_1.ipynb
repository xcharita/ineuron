{
  "nbformat": 4,
  "nbformat_minor": 0,
  "metadata": {
    "colab": {
      "name": "Python Programming Assignment 1.ipynb",
      "provenance": [],
      "authorship_tag": "ABX9TyPZRNU1epUevxBUeN1Svazs",
      "include_colab_link": true
    },
    "kernelspec": {
      "name": "python3",
      "display_name": "Python 3"
    },
    "language_info": {
      "name": "python"
    }
  },
  "cells": [
    {
      "cell_type": "markdown",
      "metadata": {
        "id": "view-in-github",
        "colab_type": "text"
      },
      "source": [
        "<a href=\"https://colab.research.google.com/github/xcharita/ineuron/blob/main/Python_Programming_Assignment_1.ipynb\" target=\"_parent\"><img src=\"https://colab.research.google.com/assets/colab-badge.svg\" alt=\"Open In Colab\"/></a>"
      ]
    },
    {
      "cell_type": "markdown",
      "metadata": {
        "id": "QMZp5VSHJAR8"
      },
      "source": [
        "1.\tWrite a Python program to print \"Hello Python\"?\n",
        "2.\tWrite a Python program to do arithmetical operations addition and division.?\n",
        "3.\tWrite a Python program to find the area of a triangle?\n",
        "4.\tWrite a Python program to swap two variables?\n",
        "5.\tWrite a Python program to generate a random number?\n"
      ]
    },
    {
      "cell_type": "code",
      "metadata": {
        "id": "8E_sA2gdI6tU"
      },
      "source": [
        "def hello():\n",
        "  return print(\"Hello Python\")"
      ],
      "execution_count": 3,
      "outputs": []
    },
    {
      "cell_type": "code",
      "metadata": {
        "colab": {
          "base_uri": "https://localhost:8080/"
        },
        "id": "-5Uij9UMJq1X",
        "outputId": "137cc59c-e5a4-4696-d47b-d2425bbc64c9"
      },
      "source": [
        "hello()"
      ],
      "execution_count": 4,
      "outputs": [
        {
          "output_type": "stream",
          "text": [
            "Hello Python\n"
          ],
          "name": "stdout"
        }
      ]
    },
    {
      "cell_type": "code",
      "metadata": {
        "id": "d8NL7usJJupD"
      },
      "source": [
        "def arithmetical(a,b):\n",
        "  add = a + b\n",
        "  div = a/b\n",
        "  return add,div"
      ],
      "execution_count": 7,
      "outputs": []
    },
    {
      "cell_type": "code",
      "metadata": {
        "colab": {
          "base_uri": "https://localhost:8080/"
        },
        "id": "MEhjmqICKIDW",
        "outputId": "7cd9fc67-671d-4ab0-be37-5dc38cbdae40"
      },
      "source": [
        "arithmetical(2,3)"
      ],
      "execution_count": 8,
      "outputs": [
        {
          "output_type": "execute_result",
          "data": {
            "text/plain": [
              "(5, 0.6666666666666666)"
            ]
          },
          "metadata": {
            "tags": []
          },
          "execution_count": 8
        }
      ]
    },
    {
      "cell_type": "code",
      "metadata": {
        "id": "gRntJWJaKXLp"
      },
      "source": [
        "def triangle(base, height):\n",
        "  return 0.5*base*height"
      ],
      "execution_count": 10,
      "outputs": []
    },
    {
      "cell_type": "code",
      "metadata": {
        "colab": {
          "base_uri": "https://localhost:8080/"
        },
        "id": "ojj20tIGK2-6",
        "outputId": "cf42a578-a448-443f-ab3e-1c508f465a46"
      },
      "source": [
        "triangle(2,3)"
      ],
      "execution_count": 11,
      "outputs": [
        {
          "output_type": "execute_result",
          "data": {
            "text/plain": [
              "3.0"
            ]
          },
          "metadata": {
            "tags": []
          },
          "execution_count": 11
        }
      ]
    },
    {
      "cell_type": "code",
      "metadata": {
        "id": "hCXIXXo-K8i0"
      },
      "source": [
        "def swap(a, b):\n",
        "  return print(a,\",\", b ,\"swapped is \", b ,\",\", a)"
      ],
      "execution_count": 29,
      "outputs": []
    },
    {
      "cell_type": "code",
      "metadata": {
        "colab": {
          "base_uri": "https://localhost:8080/"
        },
        "id": "MKieJ8yCLHaE",
        "outputId": "6151c4da-fefb-4a1f-f0fc-7a16603875de"
      },
      "source": [
        "swap(2,3)"
      ],
      "execution_count": 30,
      "outputs": [
        {
          "output_type": "stream",
          "text": [
            "2 , 3 swapped is  3 , 2\n"
          ],
          "name": "stdout"
        }
      ]
    },
    {
      "cell_type": "code",
      "metadata": {
        "colab": {
          "base_uri": "https://localhost:8080/",
          "height": 130
        },
        "id": "k4E8GCu3Ollg",
        "outputId": "3d399440-fb88-434f-b051-c6cb165ad9ea"
      },
      "source": [
        "def random():\n",
        "  i = \n",
        "  return i\n",
        "\n"
      ],
      "execution_count": 32,
      "outputs": [
        {
          "output_type": "error",
          "ename": "SyntaxError",
          "evalue": "ignored",
          "traceback": [
            "\u001b[0;36m  File \u001b[0;32m\"<ipython-input-32-a6f4b0c4626b>\"\u001b[0;36m, line \u001b[0;32m2\u001b[0m\n\u001b[0;31m    i =\u001b[0m\n\u001b[0m        ^\u001b[0m\n\u001b[0;31mSyntaxError\u001b[0m\u001b[0;31m:\u001b[0m invalid syntax\n"
          ]
        }
      ]
    },
    {
      "cell_type": "code",
      "metadata": {
        "colab": {
          "base_uri": "https://localhost:8080/",
          "height": 165
        },
        "id": "meIOSTzfPEq1",
        "outputId": "a9502637-2bd6-47db-b9a3-de8cd1dd356c"
      },
      "source": [
        "random()"
      ],
      "execution_count": 31,
      "outputs": [
        {
          "output_type": "error",
          "ename": "NameError",
          "evalue": "ignored",
          "traceback": [
            "\u001b[0;31m---------------------------------------------------------------------------\u001b[0m",
            "\u001b[0;31mNameError\u001b[0m                                 Traceback (most recent call last)",
            "\u001b[0;32m<ipython-input-31-347a394b3b57>\u001b[0m in \u001b[0;36m<module>\u001b[0;34m()\u001b[0m\n\u001b[0;32m----> 1\u001b[0;31m \u001b[0mrandom\u001b[0m\u001b[0;34m(\u001b[0m\u001b[0;34m)\u001b[0m\u001b[0;34m\u001b[0m\u001b[0;34m\u001b[0m\u001b[0m\n\u001b[0m",
            "\u001b[0;31mNameError\u001b[0m: name 'random' is not defined"
          ]
        }
      ]
    }
  ]
}