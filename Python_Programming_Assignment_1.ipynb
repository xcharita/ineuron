{
  "nbformat": 4,
  "nbformat_minor": 0,
  "metadata": {
    "kernelspec": {
      "display_name": "Python 3",
      "language": "python",
      "name": "python3"
    },
    "language_info": {
      "codemirror_mode": {
        "name": "ipython",
        "version": 3
      },
      "file_extension": ".py",
      "mimetype": "text/x-python",
      "name": "python",
      "nbconvert_exporter": "python",
      "pygments_lexer": "ipython3",
      "version": "3.8.5"
    },
    "colab": {
      "name": "Python Programming Assignment 1.ipynb",
      "provenance": [],
      "include_colab_link": true
    }
  },
  "cells": [
    {
      "cell_type": "markdown",
      "metadata": {
        "id": "view-in-github",
        "colab_type": "text"
      },
      "source": [
        "<a href=\"https://colab.research.google.com/github/xcharita/ineuron/blob/main/Python_Programming_Assignment_1.ipynb\" target=\"_parent\"><img src=\"https://colab.research.google.com/assets/colab-badge.svg\" alt=\"Open In Colab\"/></a>"
      ]
    },
    {
      "cell_type": "markdown",
      "metadata": {
        "id": "I8UaeJKzoB3m"
      },
      "source": [
        "# 1. Write a Python program to print \"Hello Python\"?"
      ]
    },
    {
      "cell_type": "code",
      "metadata": {
        "id": "C-S7ZbzgoB3x",
        "outputId": "aa94e71e-0dd7-4dc0-81a0-3ea874b60bf3"
      },
      "source": [
        "print('Hello Python')"
      ],
      "execution_count": null,
      "outputs": [
        {
          "output_type": "stream",
          "text": [
            "Hello Python\n"
          ],
          "name": "stdout"
        }
      ]
    },
    {
      "cell_type": "markdown",
      "metadata": {
        "id": "cqwDalNwoB30"
      },
      "source": [
        "# 2. Write a Python program to do arithmetical operations addition and division.?"
      ]
    },
    {
      "cell_type": "code",
      "metadata": {
        "id": "x5KAsDtSoB31"
      },
      "source": [
        "def add(a,b):\n",
        "    return print(a+b)\n",
        "\n",
        "def division(a,b):\n",
        "    try:\n",
        "        return print(a/b)\n",
        "    except:\n",
        "        print('error occured')\n",
        "        "
      ],
      "execution_count": null,
      "outputs": []
    },
    {
      "cell_type": "code",
      "metadata": {
        "id": "GK0GxUvloB33",
        "outputId": "f511ebbe-1562-4fff-9ec5-d62a3409c9c5"
      },
      "source": [
        "one  = int(input(print(\"give first number\")))\n",
        "two  = int(input(print(\"give second number\")))"
      ],
      "execution_count": null,
      "outputs": [
        {
          "output_type": "stream",
          "text": [
            "give first number\n",
            "None5\n",
            "give second number\n",
            "None0\n"
          ],
          "name": "stdout"
        }
      ]
    },
    {
      "cell_type": "code",
      "metadata": {
        "id": "jumx11LHoB34",
        "outputId": "369c7119-1d1f-4c88-b1fc-a287d2b7b9c7"
      },
      "source": [
        "add(one,two)"
      ],
      "execution_count": null,
      "outputs": [
        {
          "output_type": "execute_result",
          "data": {
            "text/plain": [
              "5"
            ]
          },
          "metadata": {
            "tags": []
          },
          "execution_count": 19
        }
      ]
    },
    {
      "cell_type": "code",
      "metadata": {
        "id": "ClQ0_b7LoB36",
        "outputId": "85703e32-dae4-463b-d950-dc3e82b57eb6"
      },
      "source": [
        "division(one, two)"
      ],
      "execution_count": null,
      "outputs": [
        {
          "output_type": "stream",
          "text": [
            "error occured\n"
          ],
          "name": "stdout"
        }
      ]
    },
    {
      "cell_type": "markdown",
      "metadata": {
        "id": "HBotIS12oB37"
      },
      "source": [
        "# 3. Write a Python program to find the area of a triangle?"
      ]
    },
    {
      "cell_type": "code",
      "metadata": {
        "id": "r_B5XoPWoB39"
      },
      "source": [
        "def triangle(a, b):\n",
        "    return (b*a)/2"
      ],
      "execution_count": null,
      "outputs": []
    },
    {
      "cell_type": "code",
      "metadata": {
        "id": "deAN89V9oB3-",
        "outputId": "68a33920-7bb6-41b3-bbdc-9b8311c9c0bd"
      },
      "source": [
        "lenght = int(input(\"What is the lenght 'a' of the traingle (cm) ? \"))\n",
        "height_perpendicular = int(input(\"What is the height perpendicular to the lenght 'a' (cm)\"))"
      ],
      "execution_count": null,
      "outputs": [
        {
          "output_type": "stream",
          "text": [
            "What is the lenght 'a' of the traingle ? 23\n",
            "What is the height perpendicular to the lenght 'a' 45\n"
          ],
          "name": "stdout"
        }
      ]
    },
    {
      "cell_type": "code",
      "metadata": {
        "id": "mZgTujiboB3_",
        "outputId": "712eb059-0b20-4560-fbcd-d7cf328dcce0"
      },
      "source": [
        "print(\"area of the triangle (cm*cm): \",triangle(lenght,height_perpendicular ))"
      ],
      "execution_count": null,
      "outputs": [
        {
          "output_type": "stream",
          "text": [
            "area of the triangle (cm*cm):  517.5\n"
          ],
          "name": "stdout"
        }
      ]
    },
    {
      "cell_type": "markdown",
      "metadata": {
        "id": "CHmmfDxNoB4B"
      },
      "source": [
        "# 4. Write a Python program to swap two variables?"
      ]
    },
    {
      "cell_type": "code",
      "metadata": {
        "id": "8SGtomxaoB4B",
        "outputId": "ccce0b75-2d2b-4f27-c7f9-edec40958835"
      },
      "source": [
        "first = int(input(print(\"please indicate first variable to swap\")))\n",
        "second = int(input(print(\"please indicate second variable to swap\")))"
      ],
      "execution_count": null,
      "outputs": [
        {
          "output_type": "stream",
          "text": [
            "please indicate first variable to swap\n",
            "None56\n",
            "please indicate second variable to swap\n",
            "None67\n"
          ],
          "name": "stdout"
        }
      ]
    },
    {
      "cell_type": "code",
      "metadata": {
        "id": "VGouqu9HoB4D"
      },
      "source": [
        "def swap(a,b):\n",
        "    print(\"normal: \", a ,' ', b)\n",
        "    return print(\"swapped: \", b ,' ', a)"
      ],
      "execution_count": null,
      "outputs": []
    },
    {
      "cell_type": "code",
      "metadata": {
        "id": "wQRrZaGfoB4E",
        "outputId": "ce2995dd-0648-4353-9e19-b6cee59bcf52"
      },
      "source": [
        "swap(first, second)"
      ],
      "execution_count": null,
      "outputs": [
        {
          "output_type": "stream",
          "text": [
            "normal:  56   67\n",
            "swapped:  67   56\n"
          ],
          "name": "stdout"
        }
      ]
    },
    {
      "cell_type": "markdown",
      "metadata": {
        "id": "Nxp8uYYdoB4F"
      },
      "source": [
        "# 5. Write a Python program to generate a random number?"
      ]
    },
    {
      "cell_type": "code",
      "metadata": {
        "id": "oiXdAIz0oB4F"
      },
      "source": [
        "import random"
      ],
      "execution_count": null,
      "outputs": []
    },
    {
      "cell_type": "code",
      "metadata": {
        "id": "xAV3u7vAoB4G",
        "outputId": "e8e4d171-fc6a-4452-da6b-62a09e5ddda4"
      },
      "source": [
        "print(\"select the range of the random number: \")\n",
        "start = int(input(\"starting at ? \"))\n",
        "stop = int(input(\"stops at ? \"))"
      ],
      "execution_count": null,
      "outputs": [
        {
          "output_type": "stream",
          "text": [
            "select the range of the random number: \n",
            "starting at ? 1\n",
            "stops at ? 100\n"
          ],
          "name": "stdout"
        }
      ]
    },
    {
      "cell_type": "code",
      "metadata": {
        "id": "ajGLdX1woB4H",
        "outputId": "6a7cdf72-0d29-4893-9426-1f1dcc46ee7b"
      },
      "source": [
        "print(random.randrange(start, stop))"
      ],
      "execution_count": null,
      "outputs": [
        {
          "output_type": "stream",
          "text": [
            "55\n"
          ],
          "name": "stdout"
        }
      ]
    }
  ]
}