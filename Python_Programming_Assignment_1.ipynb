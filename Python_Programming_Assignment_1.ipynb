{
  "nbformat": 4,
  "nbformat_minor": 0,
  "metadata": {
    "colab": {
      "name": "Python Programming Assignment 1.ipynb",
      "provenance": [],
      "authorship_tag": "ABX9TyOgpLgqnCMbwKk/ly5dq4Oy",
      "include_colab_link": true
    },
    "kernelspec": {
      "name": "python3",
      "display_name": "Python 3"
    },
    "language_info": {
      "name": "python"
    }
  },
  "cells": [
    {
      "cell_type": "markdown",
      "metadata": {
        "id": "view-in-github",
        "colab_type": "text"
      },
      "source": [
        "<a href=\"https://colab.research.google.com/github/xcharita/ineuron/blob/main/Python_Programming_Assignment_1.ipynb\" target=\"_parent\"><img src=\"https://colab.research.google.com/assets/colab-badge.svg\" alt=\"Open In Colab\"/></a>"
      ]
    },
    {
      "cell_type": "markdown",
      "metadata": {
        "id": "QMZp5VSHJAR8"
      },
      "source": [
        "1.\tWrite a Python program to print \"Hello Python\"?\n",
        "2.\tWrite a Python program to do arithmetical operations addition and division.?\n",
        "3.\tWrite a Python program to find the area of a triangle?\n",
        "4.\tWrite a Python program to swap two variables?\n",
        "5.\tWrite a Python program to generate a random number?\n"
      ]
    },
    {
      "cell_type": "code",
      "metadata": {
        "id": "8E_sA2gdI6tU"
      },
      "source": [
        "def hello():\n",
        "  return print(\"Hello Python\")"
      ],
      "execution_count": null,
      "outputs": []
    },
    {
      "cell_type": "code",
      "metadata": {
        "colab": {
          "base_uri": "https://localhost:8080/"
        },
        "id": "-5Uij9UMJq1X",
        "outputId": "137cc59c-e5a4-4696-d47b-d2425bbc64c9"
      },
      "source": [
        "hello()"
      ],
      "execution_count": null,
      "outputs": [
        {
          "output_type": "stream",
          "text": [
            "Hello Python\n"
          ],
          "name": "stdout"
        }
      ]
    },
    {
      "cell_type": "code",
      "metadata": {
        "id": "d8NL7usJJupD"
      },
      "source": [
        "def arithmetical(a,b):\n",
        "  add = a + b\n",
        "  div = a/b\n",
        "  return add,div"
      ],
      "execution_count": null,
      "outputs": []
    },
    {
      "cell_type": "code",
      "metadata": {
        "colab": {
          "base_uri": "https://localhost:8080/"
        },
        "id": "MEhjmqICKIDW",
        "outputId": "7cd9fc67-671d-4ab0-be37-5dc38cbdae40"
      },
      "source": [
        "arithmetical(2,3)"
      ],
      "execution_count": null,
      "outputs": [
        {
          "output_type": "execute_result",
          "data": {
            "text/plain": [
              "(5, 0.6666666666666666)"
            ]
          },
          "metadata": {
            "tags": []
          },
          "execution_count": 8
        }
      ]
    },
    {
      "cell_type": "code",
      "metadata": {
        "id": "gRntJWJaKXLp"
      },
      "source": [
        "def triangle(base, height):\n",
        "  return 0.5*base*height"
      ],
      "execution_count": null,
      "outputs": []
    },
    {
      "cell_type": "code",
      "metadata": {
        "colab": {
          "base_uri": "https://localhost:8080/"
        },
        "id": "ojj20tIGK2-6",
        "outputId": "cf42a578-a448-443f-ab3e-1c508f465a46"
      },
      "source": [
        "triangle(2,3)"
      ],
      "execution_count": null,
      "outputs": [
        {
          "output_type": "execute_result",
          "data": {
            "text/plain": [
              "3.0"
            ]
          },
          "metadata": {
            "tags": []
          },
          "execution_count": 11
        }
      ]
    },
    {
      "cell_type": "code",
      "metadata": {
        "id": "hCXIXXo-K8i0"
      },
      "source": [
        "def swap(a, b):\n",
        "  return print(a,\",\", b ,\"swapped is \", b ,\",\", a)"
      ],
      "execution_count": null,
      "outputs": []
    },
    {
      "cell_type": "code",
      "metadata": {
        "colab": {
          "base_uri": "https://localhost:8080/"
        },
        "id": "MKieJ8yCLHaE",
        "outputId": "6151c4da-fefb-4a1f-f0fc-7a16603875de"
      },
      "source": [
        "swap(2,3)"
      ],
      "execution_count": null,
      "outputs": [
        {
          "output_type": "stream",
          "text": [
            "2 , 3 swapped is  3 , 2\n"
          ],
          "name": "stdout"
        }
      ]
    },
    {
      "cell_type": "code",
      "metadata": {
        "id": "k4E8GCu3Ollg"
      },
      "source": [
        "import random\n",
        "\n",
        "def get_random():\n",
        "  return print(random.randint(0,100))"
      ],
      "execution_count": 5,
      "outputs": []
    },
    {
      "cell_type": "code",
      "metadata": {
        "colab": {
          "base_uri": "https://localhost:8080/"
        },
        "id": "meIOSTzfPEq1",
        "outputId": "77bfefd6-1440-44e2-f4d8-62eff0d2570a"
      },
      "source": [
        "get_random()"
      ],
      "execution_count": 6,
      "outputs": [
        {
          "output_type": "stream",
          "text": [
            "39\n"
          ],
          "name": "stdout"
        }
      ]
    }
  ]
}