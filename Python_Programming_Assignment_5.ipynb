{
  "nbformat": 4,
  "nbformat_minor": 0,
  "metadata": {
    "colab": {
      "name": "Python_Programming_Assignment_5.ipynb",
      "provenance": [],
      "authorship_tag": "ABX9TyPUYrcawFdIaMU121xWwJ0h",
      "include_colab_link": true
    },
    "kernelspec": {
      "name": "python3",
      "display_name": "Python 3"
    },
    "language_info": {
      "name": "python"
    }
  },
  "cells": [
    {
      "cell_type": "markdown",
      "metadata": {
        "id": "view-in-github",
        "colab_type": "text"
      },
      "source": [
        "<a href=\"https://colab.research.google.com/github/xcharita/ineuron/blob/main/Python_Programming_Assignment_5.ipynb\" target=\"_parent\"><img src=\"https://colab.research.google.com/assets/colab-badge.svg\" alt=\"Open In Colab\"/></a>"
      ]
    },
    {
      "cell_type": "markdown",
      "metadata": {
        "id": "F67IRYrIo7kw"
      },
      "source": [
        "1.\tWrite a Python Program to Find LCM?\n",
        "\n"
      ]
    },
    {
      "cell_type": "code",
      "metadata": {
        "id": "N4tfEEMVo9Q1"
      },
      "source": [
        "import math"
      ],
      "execution_count": 1,
      "outputs": []
    },
    {
      "cell_type": "code",
      "metadata": {
        "colab": {
          "base_uri": "https://localhost:8080/"
        },
        "id": "-WRmSU0Q0BkY",
        "outputId": "c6bb1fc1-b233-442b-9bf1-4bf07f098825"
      },
      "source": [
        "# formula for LCM is the absolute length of a and b divided by the GCD of a and b\n",
        "\n",
        "\n",
        "a = int(input(\"Pls give the first numbers to find the LCM : \"))\n",
        "b = int(input(\"Pls give the second numbers to find the LCM : \"))\n",
        "\n",
        "LCM = a*b// math.gcd(a,b)\n",
        "\n",
        "print(LCM)"
      ],
      "execution_count": 8,
      "outputs": [
        {
          "output_type": "stream",
          "text": [
            "Pls give the first numbers to find the LCM : 25\n",
            "Pls give the second numbers to find the LCM : 18\n",
            "450\n"
          ],
          "name": "stdout"
        }
      ]
    },
    {
      "cell_type": "markdown",
      "metadata": {
        "id": "xrwOVAbPpE5L"
      },
      "source": [
        "2.\tWrite a Python Program to Find HCF?\n"
      ]
    },
    {
      "cell_type": "code",
      "metadata": {
        "colab": {
          "base_uri": "https://localhost:8080/"
        },
        "id": "d5A7HTgEpPYS",
        "outputId": "1f76fed3-0df7-4eb7-8b9d-eaf5c18725b1"
      },
      "source": [
        "a = int(input(\"Pls give the first numbers to find the HCF/GCD : \"))\n",
        "b = int(input(\"Pls give the second numbers to find the HCF/GCD : \"))"
      ],
      "execution_count": 4,
      "outputs": [
        {
          "output_type": "stream",
          "text": [
            "Pls give the first numbers to find the HCF/GCD : 25\n",
            "Pls give the second numbers to find the HCF/GCD : 34\n"
          ],
          "name": "stdout"
        }
      ]
    },
    {
      "cell_type": "code",
      "metadata": {
        "colab": {
          "base_uri": "https://localhost:8080/"
        },
        "id": "HMWI8FBqpPSd",
        "outputId": "89fa05b2-a3c3-471e-ba60-eccc6f699d16"
      },
      "source": [
        "print(\"the gcd of both numbers is : \", math.gcd(a,b))"
      ],
      "execution_count": 5,
      "outputs": [
        {
          "output_type": "stream",
          "text": [
            "the gcd of both numbers is :  1\n"
          ],
          "name": "stdout"
        }
      ]
    },
    {
      "cell_type": "markdown",
      "metadata": {
        "id": "2y8gK50kpEsE"
      },
      "source": [
        "3.\tWrite a Python Program to Convert Decimal to Binary, Octal and Hexadecimal?\n"
      ]
    },
    {
      "cell_type": "code",
      "metadata": {
        "colab": {
          "base_uri": "https://localhost:8080/"
        },
        "id": "vP1HgCYhpQrh",
        "outputId": "cd55a6a7-fd01-46fb-db5d-5cb5117d870e"
      },
      "source": [
        "decimal = int(input(\"Please give your decimal to be converted into : \"))\n",
        "\n",
        "print(\"In binary : \", bin(decimal))\n",
        "print(\"In Octal : \", oct(decimal))\n",
        "print(\"In hexadecimal : \", hex(decimal))"
      ],
      "execution_count": 25,
      "outputs": [
        {
          "output_type": "stream",
          "text": [
            "Please give your decimal to be converted into : 6\n",
            "In binary :  0b110\n",
            "In Octal :  0o6\n",
            "In hexadecimal :  0x6\n"
          ],
          "name": "stdout"
        }
      ]
    },
    {
      "cell_type": "markdown",
      "metadata": {
        "id": "1cX0sMqZpEcV"
      },
      "source": [
        "4.\tWrite a Python Program To Find ASCII value of a character?\n"
      ]
    },
    {
      "cell_type": "code",
      "metadata": {
        "colab": {
          "base_uri": "https://localhost:8080/"
        },
        "id": "45j_-80hpRnO",
        "outputId": "24370dc9-69aa-4d9e-f0bb-b3b6af991e39"
      },
      "source": [
        "char = input(\"For which character would you like to find the ASCII code ? \")\n",
        "\n",
        "print(\"The ASCII code of \" + char + \" is \" + str(ord(char)))"
      ],
      "execution_count": 13,
      "outputs": [
        {
          "output_type": "stream",
          "text": [
            "For which character would you like to find the ASCII code ? A\n",
            "The ASCII code of A is 65\n"
          ],
          "name": "stdout"
        }
      ]
    },
    {
      "cell_type": "markdown",
      "metadata": {
        "id": "2RuZeHbDpEOz"
      },
      "source": [
        "5.\tWrite a Python Program to Make a Simple Calculator with 4 basic mathematical operations?"
      ]
    },
    {
      "cell_type": "code",
      "metadata": {
        "id": "dSzSJjXDpTA1"
      },
      "source": [
        "def calculator(num1, num2, operator):\n",
        "  result = 'null'\n",
        "  if operator == '+':\n",
        "    result = num1 + num2\n",
        "  elif operator == '-':\n",
        "    result = num1 - num2\n",
        "  elif operator == '/':\n",
        "    try:\n",
        "      result = num1 / num2\n",
        "    except:\n",
        "      print(\"An error occurred\")\n",
        "  elif operator == '*':\n",
        "    result = num1*num2\n",
        "  else:\n",
        "    print(\"This calculator doesn't support this operator\")\n",
        "  return result\n"
      ],
      "execution_count": 21,
      "outputs": []
    },
    {
      "cell_type": "code",
      "metadata": {
        "colab": {
          "base_uri": "https://localhost:8080/",
          "height": 105
        },
        "id": "_syPl-67pS9H",
        "outputId": "32cab063-eff6-49c4-93c1-f9b982e89a23"
      },
      "source": [
        "num1 = int(input(\"Please give the first number for calculation: \"))\n",
        "num2 = int(input(\"Please give the second number for calculation: \"))\n",
        "operator = input(\"Please give the operator for calculating the numbers: \")\n",
        "calculator(num1, num2, operator)"
      ],
      "execution_count": 24,
      "outputs": [
        {
          "output_type": "stream",
          "text": [
            "Please give the first number for calculation: 6\n",
            "Please give the second number for calculation: 0\n",
            "Please give the operator for calculating the numbers: /\n",
            "An error occurred\n"
          ],
          "name": "stdout"
        },
        {
          "output_type": "execute_result",
          "data": {
            "application/vnd.google.colaboratory.intrinsic+json": {
              "type": "string"
            },
            "text/plain": [
              "'null'"
            ]
          },
          "metadata": {
            "tags": []
          },
          "execution_count": 24
        }
      ]
    }
  ]
}