{
  "nbformat": 4,
  "nbformat_minor": 0,
  "metadata": {
    "colab": {
      "name": "Python_Programming_Assignment_8.ipynb",
      "provenance": [],
      "authorship_tag": "ABX9TyNqdcaRVVIWVzS3drpuGWm3",
      "include_colab_link": true
    },
    "kernelspec": {
      "name": "python3",
      "display_name": "Python 3"
    },
    "language_info": {
      "name": "python"
    }
  },
  "cells": [
    {
      "cell_type": "markdown",
      "metadata": {
        "id": "view-in-github",
        "colab_type": "text"
      },
      "source": [
        "<a href=\"https://colab.research.google.com/github/xcharita/ineuron/blob/main/Python_Programming_Assignment_8.ipynb\" target=\"_parent\"><img src=\"https://colab.research.google.com/assets/colab-badge.svg\" alt=\"Open In Colab\"/></a>"
      ]
    },
    {
      "cell_type": "markdown",
      "metadata": {
        "id": "imD4jSylCMEO"
      },
      "source": [
        "**Write a Python Program to Add Two Matrices?**\n"
      ]
    },
    {
      "cell_type": "code",
      "metadata": {
        "id": "ZynQyeuk_r3P"
      },
      "source": [
        "import numpy as np"
      ],
      "execution_count": 1,
      "outputs": []
    },
    {
      "cell_type": "code",
      "metadata": {
        "id": "5T_iGXMPMkHp"
      },
      "source": [
        "def add_two_matrices(mtrx1, mtrx2):\n",
        "  if len(mtrx1) == len(mtrx2):\n",
        "    return np.add(mtrx1, mtrx2)\n",
        "  else:\n",
        "    return \"The matrices don't have the same shape\"\n"
      ],
      "execution_count": 89,
      "outputs": []
    },
    {
      "cell_type": "markdown",
      "metadata": {
        "id": "D4DlYv8Ah5-L"
      },
      "source": [
        "**Write a Python Program to Multiply Two Matrices?**"
      ]
    },
    {
      "cell_type": "code",
      "metadata": {
        "id": "ibRM5JHoNDo4"
      },
      "source": [
        "def multiply_two_matrices(mtrx1, mtrx2):\n",
        "  a , b = mtrx1.shape\n",
        "  c , d = mtrx2.shape\n",
        "  if a == d and b == c:\n",
        "    return np.dot(mtrx1, mtrx2)\n",
        "  else: \n",
        "    return \"We cannot multiply these two matrices because of dimensionality incongruences\"\n",
        "  "
      ],
      "execution_count": 97,
      "outputs": []
    },
    {
      "cell_type": "code",
      "metadata": {
        "colab": {
          "base_uri": "https://localhost:8080/"
        },
        "id": "5feAIO5LB4K0",
        "outputId": "85665da7-ec13-4565-af92-55742ab7552f"
      },
      "source": [
        "string1 = ''\n",
        "rows = int(input(\"How many rows does matrix one have ? \"))\n",
        "columns = int(input(\"how many columns does matrix one have ? \"))\n",
        "\n",
        "print(rows)\n",
        "\n",
        "for i in range(columns):\n",
        "  for j in range(rows):\n",
        "    n = str(input(\"Enter the number you would like to add in the array : \"))\n",
        "    string1 = string1  + n + ' ' \n",
        "  string1 += ';'\n"
      ],
      "execution_count": 66,
      "outputs": [
        {
          "output_type": "stream",
          "text": [
            "How many rows does matrix one have ? 2\n",
            "how many columns does matrix one have ? 3\n",
            "2\n",
            "Enter the number you would like to add in the array : 5\n",
            "Enter the number you would like to add in the array : 10\n",
            "Enter the number you would like to add in the array : 15\n",
            "Enter the number you would like to add in the array : 20\n",
            "Enter the number you would like to add in the array : 25\n",
            "Enter the number you would like to add in the array : 30\n"
          ],
          "name": "stdout"
        }
      ]
    },
    {
      "cell_type": "code",
      "metadata": {
        "id": "yloJvRehKzVC"
      },
      "source": [
        "matrix1 = string1[:len(string1)-1]"
      ],
      "execution_count": 67,
      "outputs": []
    },
    {
      "cell_type": "code",
      "metadata": {
        "colab": {
          "base_uri": "https://localhost:8080/"
        },
        "id": "hjPSXw4uB4HY",
        "outputId": "9004d394-238d-402f-d25c-4b930b8ac337"
      },
      "source": [
        "string2 = ''\n",
        "rows2 = int(input(\"How many rows does matrix two have ? \"))\n",
        "columns2 = int(input(\"how many columns does matrix two have ? \"))\n",
        "\n",
        "print(rows2)\n",
        "\n",
        "for i in range(columns2):\n",
        "  for j in range(rows2):\n",
        "    n = str(input(\"Enter the number you would like to add in the array : \"))\n",
        "    string2 = string2  + n + ' ' \n",
        "  string2 += ';'\n"
      ],
      "execution_count": 69,
      "outputs": [
        {
          "output_type": "stream",
          "text": [
            "How many rows does matrix two have ? 3\n",
            "how many columns does matrix two have ? 2\n",
            "3\n",
            "Enter the number you would like to add in the array : 4\n",
            "Enter the number you would like to add in the array : 8\n",
            "Enter the number you would like to add in the array : 12\n",
            "Enter the number you would like to add in the array : 10\n",
            "Enter the number you would like to add in the array : 14\n",
            "Enter the number you would like to add in the array : 16\n"
          ],
          "name": "stdout"
        }
      ]
    },
    {
      "cell_type": "code",
      "metadata": {
        "id": "sae_6UjHB3-7"
      },
      "source": [
        "matrix2 = string2[:len(string2)-1]"
      ],
      "execution_count": 70,
      "outputs": []
    },
    {
      "cell_type": "code",
      "metadata": {
        "id": "_AA-kO5oPifX"
      },
      "source": [
        "first_matrix = np.matrix(matrix1)\n",
        "second_matrix = np.matrix(matrix2)"
      ],
      "execution_count": 72,
      "outputs": []
    },
    {
      "cell_type": "code",
      "metadata": {
        "colab": {
          "base_uri": "https://localhost:8080/"
        },
        "id": "Ga4LRXM0nC2X",
        "outputId": "e24c5efb-f17f-414d-b2b8-e51d20d79a8b"
      },
      "source": [
        "print(first_matrix)"
      ],
      "execution_count": 73,
      "outputs": [
        {
          "output_type": "stream",
          "text": [
            "[[ 5 10]\n",
            " [15 20]\n",
            " [25 30]]\n"
          ],
          "name": "stdout"
        }
      ]
    },
    {
      "cell_type": "code",
      "metadata": {
        "colab": {
          "base_uri": "https://localhost:8080/"
        },
        "id": "Stpz2ewWnF3n",
        "outputId": "6895d297-793e-447b-e577-ce3c8291faa1"
      },
      "source": [
        "print(second_matrix)"
      ],
      "execution_count": 74,
      "outputs": [
        {
          "output_type": "stream",
          "text": [
            "[[ 4  8 12]\n",
            " [10 14 16]]\n"
          ],
          "name": "stdout"
        }
      ]
    },
    {
      "cell_type": "code",
      "metadata": {
        "colab": {
          "base_uri": "https://localhost:8080/"
        },
        "id": "GH9L7MuxB3m5",
        "outputId": "a33794b0-ec34-48b7-b653-dee50de1ef69"
      },
      "source": [
        "print(add_two_matrices(first_matrix, second_matrix))"
      ],
      "execution_count": 81,
      "outputs": [
        {
          "output_type": "stream",
          "text": [
            "The matrices don't have the same shape\n"
          ],
          "name": "stdout"
        }
      ]
    },
    {
      "cell_type": "code",
      "metadata": {
        "colab": {
          "base_uri": "https://localhost:8080/"
        },
        "id": "9EUG-4cMOxyQ",
        "outputId": "2303049f-c582-4147-ff08-6d2ed28cadd7"
      },
      "source": [
        "print(multiply_two_matrices(first_matrix, second_matrix))"
      ],
      "execution_count": 98,
      "outputs": [
        {
          "output_type": "stream",
          "text": [
            "[[120 180 220]\n",
            " [260 400 500]\n",
            " [400 620 780]]\n"
          ],
          "name": "stdout"
        }
      ]
    },
    {
      "cell_type": "markdown",
      "metadata": {
        "id": "p5KpFEqMg-YR"
      },
      "source": [
        "**Write a Python Program to Transpose a Matrix?**"
      ]
    },
    {
      "cell_type": "code",
      "metadata": {
        "id": "-ZtUI2trc37p"
      },
      "source": [
        "transpose_matrix = first_matrix.T"
      ],
      "execution_count": 99,
      "outputs": []
    },
    {
      "cell_type": "code",
      "metadata": {
        "colab": {
          "base_uri": "https://localhost:8080/"
        },
        "id": "2bIxU_MKgy7m",
        "outputId": "6058c7de-4928-4b34-89d3-0b9936170ad4"
      },
      "source": [
        "transpose_matrix"
      ],
      "execution_count": 100,
      "outputs": [
        {
          "output_type": "execute_result",
          "data": {
            "text/plain": [
              "matrix([[ 5, 15, 25],\n",
              "        [10, 20, 30]])"
            ]
          },
          "metadata": {
            "tags": []
          },
          "execution_count": 100
        }
      ]
    },
    {
      "cell_type": "markdown",
      "metadata": {
        "id": "o3HWkd_uhg1P"
      },
      "source": [
        "**Write a Python Program to Sort Words in Alphabetic Order?**\n"
      ]
    },
    {
      "cell_type": "code",
      "metadata": {
        "id": "Kqru1hWmg8Lx"
      },
      "source": [
        "def sort_word(wrd):\n",
        "  return sorted(wrd)"
      ],
      "execution_count": 103,
      "outputs": []
    },
    {
      "cell_type": "code",
      "metadata": {
        "colab": {
          "base_uri": "https://localhost:8080/"
        },
        "id": "qv1U0R1YvfRY",
        "outputId": "fbf2f69c-80d0-440a-d20e-0451545519fc"
      },
      "source": [
        "word = str(input(\"Which word would you like to place in alphabetic order ? \"))"
      ],
      "execution_count": 104,
      "outputs": [
        {
          "output_type": "stream",
          "text": [
            "Which word would you like to place in alphabetic order ? hallo\n"
          ],
          "name": "stdout"
        }
      ]
    },
    {
      "cell_type": "code",
      "metadata": {
        "colab": {
          "base_uri": "https://localhost:8080/"
        },
        "id": "2jpzQS5YvTYR",
        "outputId": "1177500c-29b0-4d2b-ff8d-dd0c00303aa5"
      },
      "source": [
        "print(''.join(sort_word(word)))"
      ],
      "execution_count": 107,
      "outputs": [
        {
          "output_type": "stream",
          "text": [
            "ahllo\n"
          ],
          "name": "stdout"
        }
      ]
    },
    {
      "cell_type": "markdown",
      "metadata": {
        "id": "P2rcIULshkaM"
      },
      "source": [
        "**Write a Python Program to Remove Punctuation From a String?**"
      ]
    },
    {
      "cell_type": "code",
      "metadata": {
        "id": "yn-qgevnxGJ1"
      },
      "source": [
        "import re"
      ],
      "execution_count": 101,
      "outputs": []
    },
    {
      "cell_type": "code",
      "metadata": {
        "colab": {
          "base_uri": "https://localhost:8080/"
        },
        "id": "Guz4PAjAhpCK",
        "outputId": "fd44aa6f-422c-430a-9e70-18593a5bc65d"
      },
      "source": [
        "word2 = str(input(\"From which string would you like to remove the punctuation ? \"))"
      ],
      "execution_count": 110,
      "outputs": [
        {
          "output_type": "stream",
          "text": [
            "From which string would you like to remove the punctuation ? where are you? which digits can i make from 5.9 ?\n"
          ],
          "name": "stdout"
        }
      ]
    },
    {
      "cell_type": "code",
      "metadata": {
        "colab": {
          "base_uri": "https://localhost:8080/"
        },
        "id": "ysi8B2vywIgv",
        "outputId": "7c4e2660-2599-4491-ee64-3acefc061ad5"
      },
      "source": [
        "print(re.sub(r'[^\\w\\s]', '', word2))"
      ],
      "execution_count": 111,
      "outputs": [
        {
          "output_type": "stream",
          "text": [
            "where are you which digits can i make from 59 \n"
          ],
          "name": "stdout"
        }
      ]
    }
  ]
}