{
  "nbformat": 4,
  "nbformat_minor": 0,
  "metadata": {
    "colab": {
      "name": "Python_Programming_Assignment_6.ipynb",
      "provenance": [],
      "authorship_tag": "ABX9TyPK+eadgIsBajN5JOPID/B2",
      "include_colab_link": true
    },
    "kernelspec": {
      "name": "python3",
      "display_name": "Python 3"
    },
    "language_info": {
      "name": "python"
    }
  },
  "cells": [
    {
      "cell_type": "markdown",
      "metadata": {
        "id": "view-in-github",
        "colab_type": "text"
      },
      "source": [
        "<a href=\"https://colab.research.google.com/github/xcharita/ineuron/blob/main/Python_Programming_Assignment_6.ipynb\" target=\"_parent\"><img src=\"https://colab.research.google.com/assets/colab-badge.svg\" alt=\"Open In Colab\"/></a>"
      ]
    },
    {
      "cell_type": "markdown",
      "metadata": {
        "id": "JaxcZ3i8FfKa"
      },
      "source": [
        "Write a Python Program to Display Fibonacci Sequence Using Recursion?"
      ]
    },
    {
      "cell_type": "code",
      "metadata": {
        "id": "fpeYkEaiFXb-"
      },
      "source": [
        "def fib(n):\n",
        "  if n==1:\n",
        "    return 1\n",
        "  elif n<1:\n",
        "    return 0\n",
        "  else:\n",
        "    return fib(n-1)+fib(n-2)\n"
      ],
      "execution_count": 29,
      "outputs": []
    },
    {
      "cell_type": "code",
      "metadata": {
        "colab": {
          "base_uri": "https://localhost:8080/"
        },
        "id": "rlxx0JTgJAip",
        "outputId": "4410eef0-1f86-4d2c-d7a5-b9237efe4f05"
      },
      "source": [
        "number = int(input(\"Pls give your fib number : \"))\n",
        "fib(number)"
      ],
      "execution_count": 34,
      "outputs": [
        {
          "output_type": "stream",
          "text": [
            "Pls give your fib number : 6\n"
          ],
          "name": "stdout"
        },
        {
          "output_type": "execute_result",
          "data": {
            "text/plain": [
              "8"
            ]
          },
          "metadata": {
            "tags": []
          },
          "execution_count": 34
        }
      ]
    },
    {
      "cell_type": "markdown",
      "metadata": {
        "id": "XB-uRUJJNmxT"
      },
      "source": [
        "Write a Python Program to Find Factorial of Number Using Recursion?"
      ]
    },
    {
      "cell_type": "code",
      "metadata": {
        "id": "IwEmsdRpNmQi"
      },
      "source": [
        "def factorial(n):\n",
        "  if n==0:\n",
        "    return 1\n",
        "  elif n==1:\n",
        "    return 1\n",
        "  return n*factorial(n-1)"
      ],
      "execution_count": 37,
      "outputs": []
    },
    {
      "cell_type": "code",
      "metadata": {
        "colab": {
          "base_uri": "https://localhost:8080/"
        },
        "id": "KBIZ_ItTSyX3",
        "outputId": "e1d8c727-a0fa-429f-ad22-d55a6c8cc3be"
      },
      "source": [
        "number = int(input(\"Pls give your factorial number : \"))\n",
        "factorial(number)"
      ],
      "execution_count": 39,
      "outputs": [
        {
          "output_type": "stream",
          "text": [
            "Pls give your factorial number : 5\n"
          ],
          "name": "stdout"
        },
        {
          "output_type": "execute_result",
          "data": {
            "text/plain": [
              "120"
            ]
          },
          "metadata": {
            "tags": []
          },
          "execution_count": 39
        }
      ]
    },
    {
      "cell_type": "markdown",
      "metadata": {
        "id": "xdVw-W57Tadt"
      },
      "source": [
        "Write a Python Program to calculate your Body Mass Index?"
      ]
    },
    {
      "cell_type": "code",
      "metadata": {
        "id": "VqKm03jLTa8L"
      },
      "source": [
        "def bmi(w, h):\n",
        "  return ((w/(h/1000))/(h)*10)\n"
      ],
      "execution_count": 60,
      "outputs": []
    },
    {
      "cell_type": "code",
      "metadata": {
        "colab": {
          "base_uri": "https://localhost:8080/"
        },
        "id": "vb66Y5scUM2x",
        "outputId": "b6c2e636-fa62-47a4-e083-934f85b590c4"
      },
      "source": [
        "weight = int(input(\"What is your weight (kgs)? \"))\n",
        "height = int(input(\"What is your height (cms)? \"))\n",
        "print(\"Your BMI is : \", bmi(weight, height))"
      ],
      "execution_count": 61,
      "outputs": [
        {
          "output_type": "stream",
          "text": [
            "What is your weight (kgs)? 75\n",
            "What is your height (cms)? 174\n",
            "Your BMI is :  24.772096710265558\n"
          ],
          "name": "stdout"
        }
      ]
    },
    {
      "cell_type": "markdown",
      "metadata": {
        "id": "a6OfHVBQTuB9"
      },
      "source": [
        "Write a Python Program to calculate the natural logarithm of any number?\n"
      ]
    },
    {
      "cell_type": "code",
      "metadata": {
        "id": "3aZmG7a7TvtD"
      },
      "source": [
        "import math"
      ],
      "execution_count": 63,
      "outputs": []
    },
    {
      "cell_type": "code",
      "metadata": {
        "colab": {
          "base_uri": "https://localhost:8080/"
        },
        "id": "cyeHg5U4aCVC",
        "outputId": "b46d9c3d-bc60-44e6-97be-581e30f884af"
      },
      "source": [
        "n = int(input(\"Give number you would like to have the natural logarithm for : \"))\n",
        "print(\"The natural logarithm for\", n, \"is : \", math.log(n))"
      ],
      "execution_count": 66,
      "outputs": [
        {
          "output_type": "stream",
          "text": [
            "Give number you would like to have the natural logarithm for : 4\n",
            "The natural logarithm for 4 is :  1.3862943611198906\n"
          ],
          "name": "stdout"
        }
      ]
    },
    {
      "cell_type": "markdown",
      "metadata": {
        "id": "mrAN1komTxA2"
      },
      "source": [
        "Write a Python Program for cube sum of first n natural numbers?"
      ]
    },
    {
      "cell_type": "code",
      "metadata": {
        "id": "I0fYcfRkTxeV"
      },
      "source": [
        "def cube(n):\n",
        "  total = 1\n",
        "  if n >= 2:\n",
        "    for i in range(2,n+1):\n",
        "        total += i**3\n",
        "\n",
        "  return total"
      ],
      "execution_count": 96,
      "outputs": []
    },
    {
      "cell_type": "code",
      "metadata": {
        "colab": {
          "base_uri": "https://localhost:8080/"
        },
        "id": "yh0Qoqgkbi3d",
        "outputId": "283c90cc-5e03-45b8-d93e-360cff5870f5"
      },
      "source": [
        "sum = int(input(\"Please give the natural number you would like to have the cube sum for: \"))\n",
        "print(cube(sum))"
      ],
      "execution_count": 98,
      "outputs": [
        {
          "output_type": "stream",
          "text": [
            "Please give the natural number you would like to have the cube sum for: 4\n",
            "100\n"
          ],
          "name": "stdout"
        }
      ]
    }
  ]
}