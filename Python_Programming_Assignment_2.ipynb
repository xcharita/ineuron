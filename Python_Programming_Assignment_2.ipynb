{
  "nbformat": 4,
  "nbformat_minor": 0,
  "metadata": {
    "colab": {
      "name": "Python Programming Assignment 2.ipynb",
      "provenance": [],
      "authorship_tag": "ABX9TyMPOt2IVNU3JdTcr3fVdisf",
      "include_colab_link": true
    },
    "kernelspec": {
      "name": "python3",
      "display_name": "Python 3"
    },
    "language_info": {
      "name": "python"
    }
  },
  "cells": [
    {
      "cell_type": "markdown",
      "metadata": {
        "id": "view-in-github",
        "colab_type": "text"
      },
      "source": [
        "<a href=\"https://colab.research.google.com/github/xcharita/ineuron/blob/main/Python_Programming_Assignment_2.ipynb\" target=\"_parent\"><img src=\"https://colab.research.google.com/assets/colab-badge.svg\" alt=\"Open In Colab\"/></a>"
      ]
    },
    {
      "cell_type": "markdown",
      "metadata": {
        "id": "6JnaW1dsZZcW"
      },
      "source": [
        "1. Write a Python program to convert kilometers to miles?"
      ]
    },
    {
      "cell_type": "code",
      "metadata": {
        "id": "MMhEs45MUa0k"
      },
      "source": [
        "def convert_length(km):\n",
        "  return round(km/1.609, ndigits=2)"
      ],
      "execution_count": 7,
      "outputs": []
    },
    {
      "cell_type": "code",
      "metadata": {
        "colab": {
          "base_uri": "https://localhost:8080/"
        },
        "id": "g33k3nKBUYpN",
        "outputId": "97d8737c-a233-4c2b-a8a2-a19876d89d30"
      },
      "source": [
        "convert(6)"
      ],
      "execution_count": 8,
      "outputs": [
        {
          "output_type": "execute_result",
          "data": {
            "text/plain": [
              "3.73"
            ]
          },
          "metadata": {
            "tags": []
          },
          "execution_count": 8
        }
      ]
    },
    {
      "cell_type": "markdown",
      "metadata": {
        "id": "l3WhD85LZgZR"
      },
      "source": [
        "2. Write a Python program to convert Celsius to Fahrenheit?"
      ]
    },
    {
      "cell_type": "code",
      "metadata": {
        "id": "fCx7fPozUaxY"
      },
      "source": [
        "def convert_temp(celsius):\n",
        "  return round((celsius * 9/5) + 32)"
      ],
      "execution_count": 12,
      "outputs": []
    },
    {
      "cell_type": "code",
      "metadata": {
        "colab": {
          "base_uri": "https://localhost:8080/"
        },
        "id": "Iqr7coAXUaud",
        "outputId": "35b2a621-1b2a-4c0b-d449-592a9cf1527d"
      },
      "source": [
        "convert_temp(23)"
      ],
      "execution_count": 13,
      "outputs": [
        {
          "output_type": "execute_result",
          "data": {
            "text/plain": [
              "73"
            ]
          },
          "metadata": {
            "tags": []
          },
          "execution_count": 13
        }
      ]
    },
    {
      "cell_type": "markdown",
      "metadata": {
        "id": "F6mKpndAZnix"
      },
      "source": [
        "3. Write a Python program to display calendar?"
      ]
    },
    {
      "cell_type": "code",
      "metadata": {
        "colab": {
          "base_uri": "https://localhost:8080/"
        },
        "id": "rM8fayw1UanZ",
        "outputId": "08c05529-1e4f-4a8d-a7ca-884e50748497"
      },
      "source": [
        "import calendar\n",
        "month = int(input(\"Please indicate a month in numbers : \"))\n",
        "year = int(input(\"Please indicate a year in numbers : \"))\n",
        "print(calendar.month(year, month))\n"
      ],
      "execution_count": 28,
      "outputs": [
        {
          "output_type": "stream",
          "text": [
            "Please indicate a month in numbers : 6\n",
            "Please indicate a year in numbers : 2050\n",
            "     June 2050\n",
            "Mo Tu We Th Fr Sa Su\n",
            "       1  2  3  4  5\n",
            " 6  7  8  9 10 11 12\n",
            "13 14 15 16 17 18 19\n",
            "20 21 22 23 24 25 26\n",
            "27 28 29 30\n",
            "\n"
          ],
          "name": "stdout"
        }
      ]
    },
    {
      "cell_type": "markdown",
      "metadata": {
        "id": "-3GapfadZtJ9"
      },
      "source": [
        "4. Write a Python program to solve quadratic equation?\n"
      ]
    },
    {
      "cell_type": "code",
      "metadata": {
        "id": "Sh6kdxbCUajA"
      },
      "source": [
        ""
      ],
      "execution_count": null,
      "outputs": []
    },
    {
      "cell_type": "code",
      "metadata": {
        "id": "SXeKJLBMUaWl"
      },
      "source": [
        ""
      ],
      "execution_count": null,
      "outputs": []
    },
    {
      "cell_type": "markdown",
      "metadata": {
        "id": "zMF54LYPZ68s"
      },
      "source": [
        "5. Write a Python program to swap two variables without temp variable?"
      ]
    },
    {
      "cell_type": "code",
      "metadata": {
        "id": "LxGkjhiuUaJN"
      },
      "source": [
        "def swap():\n",
        "  a = int(input(\"What is the first variable value ? \"))\n",
        "  b = int(input(\"What is the second variable value ? \"))\n",
        "  return print(\"swapped: \", b, a)"
      ],
      "execution_count": 32,
      "outputs": []
    },
    {
      "cell_type": "code",
      "metadata": {
        "colab": {
          "base_uri": "https://localhost:8080/"
        },
        "id": "_LpdW0gDb0Td",
        "outputId": "6816bad5-e86b-4c6d-9ac4-e51d132a7d52"
      },
      "source": [
        "swap()"
      ],
      "execution_count": 33,
      "outputs": [
        {
          "output_type": "stream",
          "text": [
            "What is the first variable value ? 3\n",
            "What is the second variable value ? 5\n",
            "swapped:  5 3\n"
          ],
          "name": "stdout"
        }
      ]
    }
  ]
}