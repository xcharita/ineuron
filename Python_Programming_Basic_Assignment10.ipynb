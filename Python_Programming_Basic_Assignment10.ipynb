{
  "nbformat": 4,
  "nbformat_minor": 0,
  "metadata": {
    "colab": {
      "name": "Python_Programming_Basic_Assignment10.ipynb",
      "provenance": [],
      "authorship_tag": "ABX9TyPYpaAvWjh/meToSnQBwmyB",
      "include_colab_link": true
    },
    "kernelspec": {
      "name": "python3",
      "display_name": "Python 3"
    },
    "language_info": {
      "name": "python"
    }
  },
  "cells": [
    {
      "cell_type": "markdown",
      "metadata": {
        "id": "view-in-github",
        "colab_type": "text"
      },
      "source": [
        "<a href=\"https://colab.research.google.com/github/xcharita/ineuron/blob/main/Python_Programming_Basic_Assignment10.ipynb\" target=\"_parent\"><img src=\"https://colab.research.google.com/assets/colab-badge.svg\" alt=\"Open In Colab\"/></a>"
      ]
    },
    {
      "cell_type": "markdown",
      "metadata": {
        "id": "kG0lDFd0Gs19"
      },
      "source": [
        "**Write a Python program to find sum of elements in list?**\n",
        "\n",
        "\n"
      ]
    },
    {
      "cell_type": "code",
      "metadata": {
        "id": "iYjYhfrMY75p"
      },
      "source": [
        "def sum_of_elements(elements):\n",
        "  total_sum = 0\n",
        "  for i in range(len(elements)):\n",
        "    total_sum += int(elements[i])\n",
        "  return total_sum"
      ],
      "execution_count": 4,
      "outputs": []
    },
    {
      "cell_type": "code",
      "metadata": {
        "colab": {
          "base_uri": "https://localhost:8080/"
        },
        "id": "x8ZK8IvsGqpL",
        "outputId": "d3c2c7eb-2cae-42df-9f64-a5f0d8b636e0"
      },
      "source": [
        "list_of_numbers = [s.strip() for s in input(\"Pls give your numbers for the list, separated by a comma : \").split(\",\")]"
      ],
      "execution_count": 3,
      "outputs": [
        {
          "output_type": "stream",
          "text": [
            "Pls give your numbers for the list, separated by a comma : 3,8,23,89,0,1,456,2,782,45,1\n"
          ],
          "name": "stdout"
        }
      ]
    },
    {
      "cell_type": "code",
      "metadata": {
        "colab": {
          "base_uri": "https://localhost:8080/"
        },
        "id": "IbTIMrs7adoQ",
        "outputId": "942a0bc2-36d0-448d-e4ad-aefebc21f72c"
      },
      "source": [
        "print(\"The sum of the numbers is: \",sum_of_elements(list_of_numbers))"
      ],
      "execution_count": 5,
      "outputs": [
        {
          "output_type": "stream",
          "text": [
            "The sum of the numbers is:  1410\n"
          ],
          "name": "stdout"
        }
      ]
    },
    {
      "cell_type": "markdown",
      "metadata": {
        "id": "g8RPMU92bQx5"
      },
      "source": [
        "**Write a Python program to  Multiply all numbers in the list?**"
      ]
    },
    {
      "cell_type": "code",
      "metadata": {
        "id": "BhdrBBFIbPt7"
      },
      "source": [
        "def multiply_of_elements(elements):\n",
        "  total_mul = 1\n",
        "  for i in range(len(elements)):\n",
        "    total_mul = total_mul * int(elements[i])\n",
        "  return total_mul"
      ],
      "execution_count": 6,
      "outputs": []
    },
    {
      "cell_type": "code",
      "metadata": {
        "colab": {
          "base_uri": "https://localhost:8080/"
        },
        "id": "nw3xWecPcqkb",
        "outputId": "1c69eb2f-d5e8-45b4-c19a-f4416e231e77"
      },
      "source": [
        "print(\"The multipication of the numbers is : \", multiply_of_elements(list_of_numbers))"
      ],
      "execution_count": 7,
      "outputs": [
        {
          "output_type": "stream",
          "text": [
            "The multipication of the numbers is :  0\n"
          ],
          "name": "stdout"
        }
      ]
    },
    {
      "cell_type": "markdown",
      "metadata": {
        "id": "7YTUztQX2oMq"
      },
      "source": [
        "**Write a Python program to find smallest number in a list?**"
      ]
    },
    {
      "cell_type": "code",
      "metadata": {
        "id": "R8eFX-OGRr7F"
      },
      "source": [
        "def smallest(lst):\n",
        "  small = int(lst[0])\n",
        "  for i in range(1,len(lst)):\n",
        "    if int(lst[i]) < small:\n",
        "      small = int(lst[i])\n",
        "  return small"
      ],
      "execution_count": 8,
      "outputs": []
    },
    {
      "cell_type": "code",
      "metadata": {
        "colab": {
          "base_uri": "https://localhost:8080/"
        },
        "id": "dpY6GeKhTPVc",
        "outputId": "37787553-d1cf-4ade-9284-8ca064e23d2a"
      },
      "source": [
        "print(\"The smallest number in the list is: \",smallest(list_of_numbers))"
      ],
      "execution_count": 9,
      "outputs": [
        {
          "output_type": "stream",
          "text": [
            "The smallest number in the list is:  0\n"
          ],
          "name": "stdout"
        }
      ]
    },
    {
      "cell_type": "markdown",
      "metadata": {
        "id": "OGblED8z2oJZ"
      },
      "source": [
        "\n",
        "**Write a Python program to find largest number in a list?**\n",
        "\n",
        "\n"
      ]
    },
    {
      "cell_type": "code",
      "metadata": {
        "id": "MrV2AZwm1osc"
      },
      "source": [
        "def largest(lst):\n",
        "  large = int(lst[0])\n",
        "  lrgst = []\n",
        "  for i in range(1,len(lst)):\n",
        "    if int(lst[i]) > large:\n",
        "      large = int(lst[i])\n",
        "      lrgst.append(large)\n",
        "  return lrgst"
      ],
      "execution_count": 32,
      "outputs": []
    },
    {
      "cell_type": "code",
      "metadata": {
        "colab": {
          "base_uri": "https://localhost:8080/"
        },
        "id": "lZlJ1ajxeKV7",
        "outputId": "9dfeaf6d-88e0-4cd7-c675-de5c03cd29f2"
      },
      "source": [
        "print(\"The largest number in the list is: \",largest(list_of_numbers)[-1])"
      ],
      "execution_count": 33,
      "outputs": [
        {
          "output_type": "stream",
          "text": [
            "The largest number in the list is:  782\n"
          ],
          "name": "stdout"
        }
      ]
    },
    {
      "cell_type": "markdown",
      "metadata": {
        "id": "12k6tarl2oD4"
      },
      "source": [
        "**Write a Python program to find second largest number in a list?**"
      ]
    },
    {
      "cell_type": "code",
      "metadata": {
        "colab": {
          "base_uri": "https://localhost:8080/"
        },
        "id": "bHxWAojIsIVU",
        "outputId": "1b95c33f-a8ff-45a4-92cf-5e1691e3301b"
      },
      "source": [
        "print(\"The second largest in the list is : \", largest(list_of_numbers)[-2])"
      ],
      "execution_count": 34,
      "outputs": [
        {
          "output_type": "stream",
          "text": [
            "The second largest in the list is :  456\n"
          ],
          "name": "stdout"
        }
      ]
    },
    {
      "cell_type": "markdown",
      "metadata": {
        "id": "hH34rH1j2n7t"
      },
      "source": [
        "**Write a Python program to find N largest elements from a list?**"
      ]
    },
    {
      "cell_type": "code",
      "metadata": {
        "colab": {
          "base_uri": "https://localhost:8080/"
        },
        "id": "m_JnUCIrtaAC",
        "outputId": "d0adf0db-2e07-4326-a22b-7e3c9d943963"
      },
      "source": [
        "n = int(input(\"Give the number of largest elements you would like to see of the list\"))"
      ],
      "execution_count": 19,
      "outputs": [
        {
          "output_type": "stream",
          "text": [
            "Give the number of largest elements you would like to see of the list5\n"
          ],
          "name": "stdout"
        }
      ]
    },
    {
      "cell_type": "code",
      "metadata": {
        "colab": {
          "base_uri": "https://localhost:8080/"
        },
        "id": "SOsVwmOStni7",
        "outputId": "f4281d0a-7f7d-472d-a70e-387c648eeed3"
      },
      "source": [
        "print(\"The {0} largest elements of the list: \".format(n), largest(list_of_numbers)[-n:])"
      ],
      "execution_count": 36,
      "outputs": [
        {
          "output_type": "stream",
          "text": [
            "The 5 largest elements of the list:  [8, 23, 89, 456, 782]\n"
          ],
          "name": "stdout"
        }
      ]
    },
    {
      "cell_type": "markdown",
      "metadata": {
        "id": "ZB64oPAP2nzF"
      },
      "source": [
        "**Write a Python program to print even numbers in a list?**"
      ]
    },
    {
      "cell_type": "code",
      "metadata": {
        "id": "PtLqriIqoZ6Y"
      },
      "source": [
        "def even(lst):\n",
        "  even_lst = []\n",
        "  for i in range(len(lst)):\n",
        "    if (int(lst[i])%2 == 0) and (int(lst[i]) != 0):\n",
        "      even_lst.append(int(lst[i]))\n",
        "  return even_lst"
      ],
      "execution_count": 52,
      "outputs": []
    },
    {
      "cell_type": "code",
      "metadata": {
        "colab": {
          "base_uri": "https://localhost:8080/"
        },
        "id": "9_hrBbVK4SMP",
        "outputId": "d47a87cd-2265-4241-c386-f806f6c0b5d9"
      },
      "source": [
        "print(even(list_of_numbers))"
      ],
      "execution_count": 53,
      "outputs": [
        {
          "output_type": "stream",
          "text": [
            "[8, 456, 2, 782]\n"
          ],
          "name": "stdout"
        }
      ]
    },
    {
      "cell_type": "markdown",
      "metadata": {
        "id": "jWD1hSXQ2njL"
      },
      "source": [
        "\n",
        "\n",
        "**Write a Python program to print odd numbers in a List?**"
      ]
    },
    {
      "cell_type": "code",
      "metadata": {
        "id": "ACqXKMdFoqxH"
      },
      "source": [
        "def odd(lst):\n",
        "  odd_lst = []\n",
        "  for i in range(len(lst)):\n",
        "    if (int(lst[i])%2 != 0) and (int(lst[i]) != 0):\n",
        "      odd_lst.append(int(lst[i]))\n",
        "  return odd_lst"
      ],
      "execution_count": 54,
      "outputs": []
    },
    {
      "cell_type": "code",
      "metadata": {
        "colab": {
          "base_uri": "https://localhost:8080/"
        },
        "id": "jEhbg38O5tJ1",
        "outputId": "f462ad57-c722-462f-c282-38e83ebb1197"
      },
      "source": [
        "print(odd(list_of_numbers))"
      ],
      "execution_count": 55,
      "outputs": [
        {
          "output_type": "stream",
          "text": [
            "[3, 23, 89, 1, 45, 1]\n"
          ],
          "name": "stdout"
        }
      ]
    },
    {
      "cell_type": "markdown",
      "metadata": {
        "id": "pNyOp33Qo2Ry"
      },
      "source": [
        "**Write a Python program to Cloning or Copying a list?**\n"
      ]
    },
    {
      "cell_type": "code",
      "metadata": {
        "id": "xdOMiluX59GT"
      },
      "source": [
        "copy_list_of_numbers = list_of_numbers"
      ],
      "execution_count": 56,
      "outputs": []
    },
    {
      "cell_type": "code",
      "metadata": {
        "colab": {
          "base_uri": "https://localhost:8080/"
        },
        "id": "zSBINDYS6KU5",
        "outputId": "5f8f149a-1e01-4126-d615-92f45f2a562b"
      },
      "source": [
        "print(copy_list_of_numbers, list_of_numbers)"
      ],
      "execution_count": 57,
      "outputs": [
        {
          "output_type": "stream",
          "text": [
            "['3', '8', '23', '89', '0', '1', '456', '2', '782', '45', '1'] ['3', '8', '23', '89', '0', '1', '456', '2', '782', '45', '1']\n"
          ],
          "name": "stdout"
        }
      ]
    },
    {
      "cell_type": "markdown",
      "metadata": {
        "id": "MklgCeZEo5rd"
      },
      "source": [
        "**Write a Python program to Count occurrences of an element in a list?**"
      ]
    },
    {
      "cell_type": "code",
      "metadata": {
        "id": "6DVprasn6ddn"
      },
      "source": [
        "def occurences(lst):\n",
        "  kv_lst = {}\n",
        "  for i in range(len(lst)):\n",
        "    if lst[i] in kv_lst.keys():\n",
        "      kv_lst[lst[i]] =  kv_lst[lst[i]] + 1\n",
        "    else:\n",
        "      kv_lst[lst[i]] =  1\n",
        "  return kv_lst"
      ],
      "execution_count": 77,
      "outputs": []
    },
    {
      "cell_type": "code",
      "metadata": {
        "colab": {
          "base_uri": "https://localhost:8080/"
        },
        "id": "A7V1vfBdKVN5",
        "outputId": "b2c6db7b-e3f1-472d-f23f-0c8edf6b3c68"
      },
      "source": [
        "print(list_of_numbers)"
      ],
      "execution_count": 70,
      "outputs": [
        {
          "output_type": "stream",
          "text": [
            "['3', '8', '23', '89', '0', '1', '456', '2', '782', '45', '1']\n"
          ],
          "name": "stdout"
        }
      ]
    },
    {
      "cell_type": "code",
      "metadata": {
        "colab": {
          "base_uri": "https://localhost:8080/"
        },
        "id": "ju0a1Xnm6dVf",
        "outputId": "67059123-cf89-493e-deb5-94588c36de62"
      },
      "source": [
        "print(occurences(list_of_numbers))"
      ],
      "execution_count": 78,
      "outputs": [
        {
          "output_type": "stream",
          "text": [
            "{'3': 1, '8': 1, '23': 1, '89': 1, '0': 1, '1': 2, '456': 1, '2': 1, '782': 1, '45': 1}\n"
          ],
          "name": "stdout"
        }
      ]
    },
    {
      "cell_type": "code",
      "metadata": {
        "id": "iLmh2WTm6dGY"
      },
      "source": [
        ""
      ],
      "execution_count": null,
      "outputs": []
    }
  ]
}